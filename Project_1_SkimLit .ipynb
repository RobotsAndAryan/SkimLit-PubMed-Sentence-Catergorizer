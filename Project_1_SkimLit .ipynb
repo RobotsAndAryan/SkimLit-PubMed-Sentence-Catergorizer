{
 "cells": [
  {
   "cell_type": "markdown",
   "id": "f690b509-7f35-4f3a-bf38-10400e66f148",
   "metadata": {
    "jp-MarkdownHeadingCollapsed": true
   },
   "source": [
    "# Data Preparation"
   ]
  },
  {
   "cell_type": "code",
   "execution_count": 1,
   "id": "9056ea8f-5077-4029-babf-ed7c7bec0873",
   "metadata": {},
   "outputs": [],
   "source": [
    "# There are 2 datasets , one with 20k data and other with 200k data\n",
    "# Our goal is to train on the 20k dataset and later scale it up for the other dataset (dev.text is the validation set)"
   ]
  },
  {
   "cell_type": "code",
   "execution_count": 2,
   "id": "deaadf5e-17e0-462b-a5ae-7e728bf3d616",
   "metadata": {},
   "outputs": [],
   "source": [
    "# We're using the 20k numbers replaced dataset, lets set its path\n",
    "data_dir = \"pubmed-rct/PubMed_20k_RCT_numbers_replaced_with_at_sign/\""
   ]
  },
  {
   "cell_type": "code",
   "execution_count": 3,
   "id": "7f092fe8-4fbd-4acb-804a-a922909dee85",
   "metadata": {},
   "outputs": [
    {
     "data": {
      "text/plain": [
       "['pubmed-rct/PubMed_20k_RCT_numbers_replaced_with_at_sign/dev.txt',\n",
       " 'pubmed-rct/PubMed_20k_RCT_numbers_replaced_with_at_sign/test.txt',\n",
       " 'pubmed-rct/PubMed_20k_RCT_numbers_replaced_with_at_sign/train.txt']"
      ]
     },
     "execution_count": 3,
     "metadata": {},
     "output_type": "execute_result"
    }
   ],
   "source": [
    "# Check all the filenames in the directory\n",
    "import os\n",
    "filenames = [data_dir+filename for filename in os.listdir(data_dir)]\n",
    "filenames"
   ]
  },
  {
   "cell_type": "code",
   "execution_count": 4,
   "id": "e1b49b17-a2b0-4416-994d-fc34efc0a8e7",
   "metadata": {},
   "outputs": [],
   "source": [
    "# Visualize examples from the data\n",
    "def get_lines(filename):\n",
    "    \"\"\"\n",
    "    Reads filename and returns the lines of text as a list\"\"\"\n",
    "    file = open(data_dir+filename,\"r\")\n",
    "    lines = []\n",
    "    # Read the lines\n",
    "    for line in file:\n",
    "        lines.append(line.strip())\n",
    "\n",
    "    return lines "
   ]
  },
  {
   "cell_type": "code",
   "execution_count": 5,
   "id": "bddeac97-2366-47f0-87b0-1a89bbde90b7",
   "metadata": {
    "scrolled": true
   },
   "outputs": [],
   "source": [
    "# Save the training data as a list\n",
    "train_lines = get_lines(\"train.txt\")"
   ]
  },
  {
   "cell_type": "code",
   "execution_count": 6,
   "id": "64a4b022-fb0b-417e-8e4a-b8c64b313d70",
   "metadata": {},
   "outputs": [
    {
     "data": {
      "text/plain": [
       "'###24293578'"
      ]
     },
     "execution_count": 6,
     "metadata": {},
     "output_type": "execute_result"
    }
   ],
   "source": [
    "# Check the first index in the list of sentences\n",
    "train_lines[0]"
   ]
  },
  {
   "cell_type": "code",
   "execution_count": 7,
   "id": "e2a13166-5d63-49ea-ac81-2e01f9d6716d",
   "metadata": {
    "scrolled": true
   },
   "outputs": [],
   "source": [
    "df = {} # Make a dictionary\n",
    "\n",
    "for line in train_lines:\n",
    "    if not line:\n",
    "        continue\n",
    "    if line[0] != \"#\":\n",
    "        parts = line.split(\"\\t\")\n",
    "        label = parts[0]\n",
    "        sentence = parts[1]\n",
    "        df[sentence] = label\n",
    "    else:\n",
    "        pass"
   ]
  },
  {
   "cell_type": "code",
   "execution_count": 8,
   "id": "b412d4e2-22de-4868-841e-ff26ebe80610",
   "metadata": {
    "scrolled": true
   },
   "outputs": [
    {
     "data": {
      "text/html": [
       "<div>\n",
       "<style scoped>\n",
       "    .dataframe tbody tr th:only-of-type {\n",
       "        vertical-align: middle;\n",
       "    }\n",
       "\n",
       "    .dataframe tbody tr th {\n",
       "        vertical-align: top;\n",
       "    }\n",
       "\n",
       "    .dataframe thead tr th {\n",
       "        text-align: left;\n",
       "    }\n",
       "</style>\n",
       "<table border=\"1\" class=\"dataframe\">\n",
       "  <thead>\n",
       "    <tr>\n",
       "      <th></th>\n",
       "      <th>sentence</th>\n",
       "      <th>label</th>\n",
       "    </tr>\n",
       "  </thead>\n",
       "  <tbody>\n",
       "    <tr>\n",
       "      <th>0</th>\n",
       "      <td>To investigate the efficacy of @ weeks of dail...</td>\n",
       "      <td>OBJECTIVE</td>\n",
       "    </tr>\n",
       "    <tr>\n",
       "      <th>1</th>\n",
       "      <td>A total of @ patients with primary knee OA wer...</td>\n",
       "      <td>METHODS</td>\n",
       "    </tr>\n",
       "    <tr>\n",
       "      <th>2</th>\n",
       "      <td>Outcome measures included pain reduction and i...</td>\n",
       "      <td>METHODS</td>\n",
       "    </tr>\n",
       "    <tr>\n",
       "      <th>3</th>\n",
       "      <td>Pain was assessed using the visual analog pain...</td>\n",
       "      <td>METHODS</td>\n",
       "    </tr>\n",
       "    <tr>\n",
       "      <th>4</th>\n",
       "      <td>Secondary outcome measures included the Wester...</td>\n",
       "      <td>METHODS</td>\n",
       "    </tr>\n",
       "  </tbody>\n",
       "</table>\n",
       "</div>"
      ],
      "text/plain": [
       "                                            sentence      label\n",
       "0  To investigate the efficacy of @ weeks of dail...  OBJECTIVE\n",
       "1  A total of @ patients with primary knee OA wer...    METHODS\n",
       "2  Outcome measures included pain reduction and i...    METHODS\n",
       "3  Pain was assessed using the visual analog pain...    METHODS\n",
       "4  Secondary outcome measures included the Wester...    METHODS"
      ]
     },
     "execution_count": 8,
     "metadata": {},
     "output_type": "execute_result"
    }
   ],
   "source": [
    "# turn it into a pd DataFrame\n",
    "import pandas as pd\n",
    "train_df = pd.DataFrame(list(df.items()), columns = [[\"sentence\",\"label\"]])\n",
    "train_df.head()"
   ]
  },
  {
   "cell_type": "code",
   "execution_count": 9,
   "id": "9a777f98-b79b-408a-9e1e-35a7e98a6f5a",
   "metadata": {},
   "outputs": [
    {
     "data": {
      "text/html": [
       "<div>\n",
       "<style scoped>\n",
       "    .dataframe tbody tr th:only-of-type {\n",
       "        vertical-align: middle;\n",
       "    }\n",
       "\n",
       "    .dataframe tbody tr th {\n",
       "        vertical-align: top;\n",
       "    }\n",
       "\n",
       "    .dataframe thead tr th {\n",
       "        text-align: left;\n",
       "    }\n",
       "</style>\n",
       "<table border=\"1\" class=\"dataframe\">\n",
       "  <thead>\n",
       "    <tr>\n",
       "      <th></th>\n",
       "      <th>sentence</th>\n",
       "      <th>label</th>\n",
       "    </tr>\n",
       "  </thead>\n",
       "  <tbody>\n",
       "    <tr>\n",
       "      <th>0</th>\n",
       "      <td>IgE sensitization to Aspergillus fumigatus and...</td>\n",
       "      <td>BACKGROUND</td>\n",
       "    </tr>\n",
       "    <tr>\n",
       "      <th>1</th>\n",
       "      <td>It is not clear whether these patients would b...</td>\n",
       "      <td>BACKGROUND</td>\n",
       "    </tr>\n",
       "    <tr>\n",
       "      <th>2</th>\n",
       "      <td>We sought to determine whether a @-month cours...</td>\n",
       "      <td>OBJECTIVE</td>\n",
       "    </tr>\n",
       "    <tr>\n",
       "      <th>3</th>\n",
       "      <td>Asthmatic patients who were IgE sensitized to ...</td>\n",
       "      <td>METHODS</td>\n",
       "    </tr>\n",
       "    <tr>\n",
       "      <th>4</th>\n",
       "      <td>Primary outcomes were improvement in quality o...</td>\n",
       "      <td>METHODS</td>\n",
       "    </tr>\n",
       "  </tbody>\n",
       "</table>\n",
       "</div>"
      ],
      "text/plain": [
       "                                            sentence       label\n",
       "0  IgE sensitization to Aspergillus fumigatus and...  BACKGROUND\n",
       "1  It is not clear whether these patients would b...  BACKGROUND\n",
       "2  We sought to determine whether a @-month cours...   OBJECTIVE\n",
       "3  Asthmatic patients who were IgE sensitized to ...     METHODS\n",
       "4  Primary outcomes were improvement in quality o...     METHODS"
      ]
     },
     "execution_count": 9,
     "metadata": {},
     "output_type": "execute_result"
    }
   ],
   "source": [
    "#Let's also import the validation data and process it\n",
    "valid_lines = get_lines(\"dev.txt\") # Save the data as a list\n",
    "\n",
    "valid_df = {} # Make a dictionary to store the list as 2 items in a row\n",
    "\n",
    "for line in valid_lines:\n",
    "    if not line:\n",
    "        continue\n",
    "    if line[0] != \"#\":\n",
    "        parts = line.split(\"\\t\")\n",
    "        label = parts[0]\n",
    "        sentence = parts[1]\n",
    "        valid_df[sentence] = label\n",
    "    else:\n",
    "        pass\n",
    "\n",
    "valid_df = pd.DataFrame(list(valid_df.items()), columns = [[\"sentence\",\"label\"]])\n",
    "valid_df.head()"
   ]
  },
  {
   "cell_type": "code",
   "execution_count": 10,
   "id": "46be11b8-1822-41ed-ac14-8077092a47c5",
   "metadata": {
    "scrolled": true
   },
   "outputs": [
    {
     "data": {
      "text/plain": [
       "sentence    To investigate the efficacy of @ weeks of dail...\n",
       "Name: 0, dtype: object"
      ]
     },
     "execution_count": 10,
     "metadata": {},
     "output_type": "execute_result"
    }
   ],
   "source": [
    "train_sentences = train_df[\"sentence\"]\n",
    "train_sentences.iloc[0]"
   ]
  },
  {
   "cell_type": "code",
   "execution_count": 11,
   "id": "67f2d9f1-92d7-43c8-a2c5-aadd57eabe0c",
   "metadata": {},
   "outputs": [
    {
     "data": {
      "text/plain": [
       "(label,)   \n",
       "METHODS        58416\n",
       "RESULTS        57702\n",
       "CONCLUSIONS    26897\n",
       "BACKGROUND     20107\n",
       "OBJECTIVE      13824\n",
       "Name: count, dtype: int64"
      ]
     },
     "execution_count": 11,
     "metadata": {},
     "output_type": "execute_result"
    }
   ],
   "source": [
    "train_df[\"label\"].value_counts()"
   ]
  },
  {
   "cell_type": "code",
   "execution_count": 12,
   "id": "f6b5b313-2619-4407-abf3-e71e037d6f21",
   "metadata": {},
   "outputs": [
    {
     "data": {
      "text/plain": [
       "(100044, 28)"
      ]
     },
     "execution_count": 12,
     "metadata": {},
     "output_type": "execute_result"
    }
   ],
   "source": [
    "# Finding the maximum number of words in a sentence for the whole datatset \n",
    "i = 0\n",
    "words = 15\n",
    "for i in range(0, len(train_sentences)):\n",
    "    \n",
    "    if len(str(train_sentences.iloc[i]).split()) > words:\n",
    "        index = i\n",
    "        words = len(str(train_sentences.iloc[i]).split())\n",
    "    else:\n",
    "        pass\n",
    "\n",
    "index, words"
   ]
  },
  {
   "cell_type": "code",
   "execution_count": 13,
   "id": "0369ddd1-c877-4ddf-87c1-bb55219cd493",
   "metadata": {},
   "outputs": [],
   "source": [
    "# split our sentences and their respective labels into seperate numpy arrays\n",
    "train_sentences = train_df[\"sentence\"].values.ravel()\n",
    "train_labels = train_df[\"label\"].values.ravel()\n",
    "\n",
    "valid_sentences = valid_df[\"sentence\"].values.ravel()\n",
    "valid_labels = valid_df[\"label\"].values.ravel()"
   ]
  },
  {
   "cell_type": "markdown",
   "id": "d609738c-7d0d-49a3-b37c-ad21cb7e2ae5",
   "metadata": {
    "jp-MarkdownHeadingCollapsed": true
   },
   "source": [
    "# Numerical Encoding"
   ]
  },
  {
   "cell_type": "code",
   "execution_count": 14,
   "id": "24df3801-74f0-46b2-a0d5-61726514ad0f",
   "metadata": {},
   "outputs": [],
   "source": [
    "# Need to numerically encode the labels\n",
    "from sklearn.preprocessing import LabelEncoder\n",
    "\n",
    "le = LabelEncoder()\n",
    "train_labels_enc = le.fit_transform(train_labels)   # string -> int\n",
    "valid_labels_enc = le.transform(valid_labels)"
   ]
  },
  {
   "cell_type": "code",
   "execution_count": 15,
   "id": "07956277-6ed9-41b2-84ae-4b1a28e88f27",
   "metadata": {},
   "outputs": [],
   "source": [
    "# Now we need to make a text_vectorizer for numerical encoding\n",
    "import tensorflow as tf\n",
    "from tensorflow.keras.layers.experimental.preprocessing import TextVectorization\n",
    "\n",
    "text_vectorizer = TextVectorization(max_tokens=70000, # How many words in our vocab\n",
    "                                    standardize=\"lower_and_strip_punctuation\", # Make it more concise\n",
    "                                    split=\"whitespace\",\n",
    "                                    ngrams=None, # create groups of n-words\n",
    "                                    output_mode=\"int\",\n",
    "                                    output_sequence_length=30,\n",
    "                                    pad_to_max_tokens=True) # Pads to the end if empty\n",
    "\n",
    "text_vectorizer.adapt(train_sentences)"
   ]
  },
  {
   "cell_type": "code",
   "execution_count": 16,
   "id": "cdce17b6-b2ce-48e7-b994-a0ace2453a76",
   "metadata": {},
   "outputs": [
    {
     "data": {
      "text/plain": [
       "<tf.Tensor: shape=(30,), dtype=int64, numpy=\n",
       "array([ 169,    5,  803,  144,    3,   96, 1338,  111,   31, 2900,    6,\n",
       "         36, 6533,    6,  269, 4804, 1457,   11,   12,    7,  315,  485,\n",
       "        798,    5,   56,   77,    0,    0,    0,    0], dtype=int64)>"
      ]
     },
     "execution_count": 16,
     "metadata": {},
     "output_type": "execute_result"
    }
   ],
   "source": [
    "# Let's see the some random vetcorized sentences\n",
    "import random\n",
    "text_vectorizer(train_sentences[random.randint(0, len(train_sentences))])"
   ]
  },
  {
   "cell_type": "code",
   "execution_count": 17,
   "id": "8e32ea11-8233-4347-9079-8dde609538e9",
   "metadata": {},
   "outputs": [
    {
     "data": {
      "text/plain": [
       "(<tf.Tensor: shape=(30,), dtype=int64, numpy=\n",
       " array([  12,    5,   54,  487,  170,  174, 1032,   15, 3173, 8094,    0,\n",
       "           0,    0,    0,    0,    0,    0,    0,    0,    0,    0,    0,\n",
       "           0,    0,    0,    0,    0,    0,    0,    0], dtype=int64)>,\n",
       " <tf.Tensor: shape=(30, 128), dtype=float32, numpy=\n",
       " array([[ 0.01743719,  0.00603969,  0.00238656, ..., -0.04363225,\n",
       "         -0.02136405, -0.02789062],\n",
       "        [ 0.01820813,  0.01497107, -0.02916775, ...,  0.01080705,\n",
       "         -0.02253315, -0.02848482],\n",
       "        [-0.01479319,  0.02235987,  0.01888678, ..., -0.0223353 ,\n",
       "         -0.01586943, -0.03225986],\n",
       "        ...,\n",
       "        [-0.04178624,  0.04467532, -0.04539169, ..., -0.01630256,\n",
       "          0.00520855,  0.01488927],\n",
       "        [-0.04178624,  0.04467532, -0.04539169, ..., -0.01630256,\n",
       "          0.00520855,  0.01488927],\n",
       "        [-0.04178624,  0.04467532, -0.04539169, ..., -0.01630256,\n",
       "          0.00520855,  0.01488927]], dtype=float32)>)"
      ]
     },
     "execution_count": 17,
     "metadata": {},
     "output_type": "execute_result"
    }
   ],
   "source": [
    "# Now lets create an embedding layer and see some random embedded sentences\n",
    "from tensorflow.keras import layers\n",
    "\n",
    "embedding_layer = layers.Embedding(input_dim=70000,\n",
    "                                   output_dim=128,\n",
    "                                   input_length=30)\n",
    "\n",
    "index = random.randint(0, len(train_sentences))\n",
    "text_vectorizer(train_sentences[index]), embedding_layer(text_vectorizer(train_sentences[index]))"
   ]
  },
  {
   "cell_type": "markdown",
   "id": "0c6b2849-88be-4356-bb0f-6606b7160c7d",
   "metadata": {
    "jp-MarkdownHeadingCollapsed": true
   },
   "source": [
    "# Model_0 (baseline model with scikit-learn)"
   ]
  },
  {
   "cell_type": "code",
   "execution_count": 18,
   "id": "0688ec73-e2c9-4d05-a057-f900dbc8bf44",
   "metadata": {},
   "outputs": [
    {
     "data": {
      "text/plain": [
       "array(['To investigate the efficacy of @ weeks of daily low-dose oral prednisolone in improving pain , mobility , and systemic low-grade inflammation in the short term and whether the effect would be sustained at @ weeks in older adults with moderate to severe knee osteoarthritis ( OA ) .',\n",
       "       'A total of @ patients with primary knee OA were randomized @:@ ; @ received @ mg/day of prednisolone and @ received placebo for @ weeks .',\n",
       "       'Outcome measures included pain reduction and improvement in function scores and systemic inflammation markers .',\n",
       "       ...,\n",
       "       'Both strategies had acceptable side effect profiles , with a low incidence oflaboratory abnormalities and cardiovascular events .',\n",
       "       'Compared with standard statin monotherapy , the combination of statin plus ezetimibe showed greater coronary plaque regression , which might be attributed to cholesterol absorption inhibition-induced aggressive lipid lowering .',\n",
       "       '( Plaque Regression With Cholesterol Absorption Inhibitor or Synthesis Inhibitor Evaluated by Intravascular Ultrasound -LSB- PRECISE-IVUS -RSB- ; NCT@ ) .'],\n",
       "      dtype=object)"
      ]
     },
     "execution_count": 18,
     "metadata": {},
     "output_type": "execute_result"
    }
   ],
   "source": [
    "train_sentences"
   ]
  },
  {
   "cell_type": "code",
   "execution_count": 19,
   "id": "fb1d12db-be72-4904-a7a1-fc719cfb5f94",
   "metadata": {},
   "outputs": [
    {
     "data": {
      "text/html": [
       "<style>#sk-container-id-1 {\n",
       "  /* Definition of color scheme common for light and dark mode */\n",
       "  --sklearn-color-text: #000;\n",
       "  --sklearn-color-text-muted: #666;\n",
       "  --sklearn-color-line: gray;\n",
       "  /* Definition of color scheme for unfitted estimators */\n",
       "  --sklearn-color-unfitted-level-0: #fff5e6;\n",
       "  --sklearn-color-unfitted-level-1: #f6e4d2;\n",
       "  --sklearn-color-unfitted-level-2: #ffe0b3;\n",
       "  --sklearn-color-unfitted-level-3: chocolate;\n",
       "  /* Definition of color scheme for fitted estimators */\n",
       "  --sklearn-color-fitted-level-0: #f0f8ff;\n",
       "  --sklearn-color-fitted-level-1: #d4ebff;\n",
       "  --sklearn-color-fitted-level-2: #b3dbfd;\n",
       "  --sklearn-color-fitted-level-3: cornflowerblue;\n",
       "\n",
       "  /* Specific color for light theme */\n",
       "  --sklearn-color-text-on-default-background: var(--sg-text-color, var(--theme-code-foreground, var(--jp-content-font-color1, black)));\n",
       "  --sklearn-color-background: var(--sg-background-color, var(--theme-background, var(--jp-layout-color0, white)));\n",
       "  --sklearn-color-border-box: var(--sg-text-color, var(--theme-code-foreground, var(--jp-content-font-color1, black)));\n",
       "  --sklearn-color-icon: #696969;\n",
       "\n",
       "  @media (prefers-color-scheme: dark) {\n",
       "    /* Redefinition of color scheme for dark theme */\n",
       "    --sklearn-color-text-on-default-background: var(--sg-text-color, var(--theme-code-foreground, var(--jp-content-font-color1, white)));\n",
       "    --sklearn-color-background: var(--sg-background-color, var(--theme-background, var(--jp-layout-color0, #111)));\n",
       "    --sklearn-color-border-box: var(--sg-text-color, var(--theme-code-foreground, var(--jp-content-font-color1, white)));\n",
       "    --sklearn-color-icon: #878787;\n",
       "  }\n",
       "}\n",
       "\n",
       "#sk-container-id-1 {\n",
       "  color: var(--sklearn-color-text);\n",
       "}\n",
       "\n",
       "#sk-container-id-1 pre {\n",
       "  padding: 0;\n",
       "}\n",
       "\n",
       "#sk-container-id-1 input.sk-hidden--visually {\n",
       "  border: 0;\n",
       "  clip: rect(1px 1px 1px 1px);\n",
       "  clip: rect(1px, 1px, 1px, 1px);\n",
       "  height: 1px;\n",
       "  margin: -1px;\n",
       "  overflow: hidden;\n",
       "  padding: 0;\n",
       "  position: absolute;\n",
       "  width: 1px;\n",
       "}\n",
       "\n",
       "#sk-container-id-1 div.sk-dashed-wrapped {\n",
       "  border: 1px dashed var(--sklearn-color-line);\n",
       "  margin: 0 0.4em 0.5em 0.4em;\n",
       "  box-sizing: border-box;\n",
       "  padding-bottom: 0.4em;\n",
       "  background-color: var(--sklearn-color-background);\n",
       "}\n",
       "\n",
       "#sk-container-id-1 div.sk-container {\n",
       "  /* jupyter's `normalize.less` sets `[hidden] { display: none; }`\n",
       "     but bootstrap.min.css set `[hidden] { display: none !important; }`\n",
       "     so we also need the `!important` here to be able to override the\n",
       "     default hidden behavior on the sphinx rendered scikit-learn.org.\n",
       "     See: https://github.com/scikit-learn/scikit-learn/issues/21755 */\n",
       "  display: inline-block !important;\n",
       "  position: relative;\n",
       "}\n",
       "\n",
       "#sk-container-id-1 div.sk-text-repr-fallback {\n",
       "  display: none;\n",
       "}\n",
       "\n",
       "div.sk-parallel-item,\n",
       "div.sk-serial,\n",
       "div.sk-item {\n",
       "  /* draw centered vertical line to link estimators */\n",
       "  background-image: linear-gradient(var(--sklearn-color-text-on-default-background), var(--sklearn-color-text-on-default-background));\n",
       "  background-size: 2px 100%;\n",
       "  background-repeat: no-repeat;\n",
       "  background-position: center center;\n",
       "}\n",
       "\n",
       "/* Parallel-specific style estimator block */\n",
       "\n",
       "#sk-container-id-1 div.sk-parallel-item::after {\n",
       "  content: \"\";\n",
       "  width: 100%;\n",
       "  border-bottom: 2px solid var(--sklearn-color-text-on-default-background);\n",
       "  flex-grow: 1;\n",
       "}\n",
       "\n",
       "#sk-container-id-1 div.sk-parallel {\n",
       "  display: flex;\n",
       "  align-items: stretch;\n",
       "  justify-content: center;\n",
       "  background-color: var(--sklearn-color-background);\n",
       "  position: relative;\n",
       "}\n",
       "\n",
       "#sk-container-id-1 div.sk-parallel-item {\n",
       "  display: flex;\n",
       "  flex-direction: column;\n",
       "}\n",
       "\n",
       "#sk-container-id-1 div.sk-parallel-item:first-child::after {\n",
       "  align-self: flex-end;\n",
       "  width: 50%;\n",
       "}\n",
       "\n",
       "#sk-container-id-1 div.sk-parallel-item:last-child::after {\n",
       "  align-self: flex-start;\n",
       "  width: 50%;\n",
       "}\n",
       "\n",
       "#sk-container-id-1 div.sk-parallel-item:only-child::after {\n",
       "  width: 0;\n",
       "}\n",
       "\n",
       "/* Serial-specific style estimator block */\n",
       "\n",
       "#sk-container-id-1 div.sk-serial {\n",
       "  display: flex;\n",
       "  flex-direction: column;\n",
       "  align-items: center;\n",
       "  background-color: var(--sklearn-color-background);\n",
       "  padding-right: 1em;\n",
       "  padding-left: 1em;\n",
       "}\n",
       "\n",
       "\n",
       "/* Toggleable style: style used for estimator/Pipeline/ColumnTransformer box that is\n",
       "clickable and can be expanded/collapsed.\n",
       "- Pipeline and ColumnTransformer use this feature and define the default style\n",
       "- Estimators will overwrite some part of the style using the `sk-estimator` class\n",
       "*/\n",
       "\n",
       "/* Pipeline and ColumnTransformer style (default) */\n",
       "\n",
       "#sk-container-id-1 div.sk-toggleable {\n",
       "  /* Default theme specific background. It is overwritten whether we have a\n",
       "  specific estimator or a Pipeline/ColumnTransformer */\n",
       "  background-color: var(--sklearn-color-background);\n",
       "}\n",
       "\n",
       "/* Toggleable label */\n",
       "#sk-container-id-1 label.sk-toggleable__label {\n",
       "  cursor: pointer;\n",
       "  display: flex;\n",
       "  width: 100%;\n",
       "  margin-bottom: 0;\n",
       "  padding: 0.5em;\n",
       "  box-sizing: border-box;\n",
       "  text-align: center;\n",
       "  align-items: start;\n",
       "  justify-content: space-between;\n",
       "  gap: 0.5em;\n",
       "}\n",
       "\n",
       "#sk-container-id-1 label.sk-toggleable__label .caption {\n",
       "  font-size: 0.6rem;\n",
       "  font-weight: lighter;\n",
       "  color: var(--sklearn-color-text-muted);\n",
       "}\n",
       "\n",
       "#sk-container-id-1 label.sk-toggleable__label-arrow:before {\n",
       "  /* Arrow on the left of the label */\n",
       "  content: \"▸\";\n",
       "  float: left;\n",
       "  margin-right: 0.25em;\n",
       "  color: var(--sklearn-color-icon);\n",
       "}\n",
       "\n",
       "#sk-container-id-1 label.sk-toggleable__label-arrow:hover:before {\n",
       "  color: var(--sklearn-color-text);\n",
       "}\n",
       "\n",
       "/* Toggleable content - dropdown */\n",
       "\n",
       "#sk-container-id-1 div.sk-toggleable__content {\n",
       "  display: none;\n",
       "  text-align: left;\n",
       "  /* unfitted */\n",
       "  background-color: var(--sklearn-color-unfitted-level-0);\n",
       "}\n",
       "\n",
       "#sk-container-id-1 div.sk-toggleable__content.fitted {\n",
       "  /* fitted */\n",
       "  background-color: var(--sklearn-color-fitted-level-0);\n",
       "}\n",
       "\n",
       "#sk-container-id-1 div.sk-toggleable__content pre {\n",
       "  margin: 0.2em;\n",
       "  border-radius: 0.25em;\n",
       "  color: var(--sklearn-color-text);\n",
       "  /* unfitted */\n",
       "  background-color: var(--sklearn-color-unfitted-level-0);\n",
       "}\n",
       "\n",
       "#sk-container-id-1 div.sk-toggleable__content.fitted pre {\n",
       "  /* unfitted */\n",
       "  background-color: var(--sklearn-color-fitted-level-0);\n",
       "}\n",
       "\n",
       "#sk-container-id-1 input.sk-toggleable__control:checked~div.sk-toggleable__content {\n",
       "  /* Expand drop-down */\n",
       "  display: block;\n",
       "  width: 100%;\n",
       "  overflow: visible;\n",
       "}\n",
       "\n",
       "#sk-container-id-1 input.sk-toggleable__control:checked~label.sk-toggleable__label-arrow:before {\n",
       "  content: \"▾\";\n",
       "}\n",
       "\n",
       "/* Pipeline/ColumnTransformer-specific style */\n",
       "\n",
       "#sk-container-id-1 div.sk-label input.sk-toggleable__control:checked~label.sk-toggleable__label {\n",
       "  color: var(--sklearn-color-text);\n",
       "  background-color: var(--sklearn-color-unfitted-level-2);\n",
       "}\n",
       "\n",
       "#sk-container-id-1 div.sk-label.fitted input.sk-toggleable__control:checked~label.sk-toggleable__label {\n",
       "  background-color: var(--sklearn-color-fitted-level-2);\n",
       "}\n",
       "\n",
       "/* Estimator-specific style */\n",
       "\n",
       "/* Colorize estimator box */\n",
       "#sk-container-id-1 div.sk-estimator input.sk-toggleable__control:checked~label.sk-toggleable__label {\n",
       "  /* unfitted */\n",
       "  background-color: var(--sklearn-color-unfitted-level-2);\n",
       "}\n",
       "\n",
       "#sk-container-id-1 div.sk-estimator.fitted input.sk-toggleable__control:checked~label.sk-toggleable__label {\n",
       "  /* fitted */\n",
       "  background-color: var(--sklearn-color-fitted-level-2);\n",
       "}\n",
       "\n",
       "#sk-container-id-1 div.sk-label label.sk-toggleable__label,\n",
       "#sk-container-id-1 div.sk-label label {\n",
       "  /* The background is the default theme color */\n",
       "  color: var(--sklearn-color-text-on-default-background);\n",
       "}\n",
       "\n",
       "/* On hover, darken the color of the background */\n",
       "#sk-container-id-1 div.sk-label:hover label.sk-toggleable__label {\n",
       "  color: var(--sklearn-color-text);\n",
       "  background-color: var(--sklearn-color-unfitted-level-2);\n",
       "}\n",
       "\n",
       "/* Label box, darken color on hover, fitted */\n",
       "#sk-container-id-1 div.sk-label.fitted:hover label.sk-toggleable__label.fitted {\n",
       "  color: var(--sklearn-color-text);\n",
       "  background-color: var(--sklearn-color-fitted-level-2);\n",
       "}\n",
       "\n",
       "/* Estimator label */\n",
       "\n",
       "#sk-container-id-1 div.sk-label label {\n",
       "  font-family: monospace;\n",
       "  font-weight: bold;\n",
       "  display: inline-block;\n",
       "  line-height: 1.2em;\n",
       "}\n",
       "\n",
       "#sk-container-id-1 div.sk-label-container {\n",
       "  text-align: center;\n",
       "}\n",
       "\n",
       "/* Estimator-specific */\n",
       "#sk-container-id-1 div.sk-estimator {\n",
       "  font-family: monospace;\n",
       "  border: 1px dotted var(--sklearn-color-border-box);\n",
       "  border-radius: 0.25em;\n",
       "  box-sizing: border-box;\n",
       "  margin-bottom: 0.5em;\n",
       "  /* unfitted */\n",
       "  background-color: var(--sklearn-color-unfitted-level-0);\n",
       "}\n",
       "\n",
       "#sk-container-id-1 div.sk-estimator.fitted {\n",
       "  /* fitted */\n",
       "  background-color: var(--sklearn-color-fitted-level-0);\n",
       "}\n",
       "\n",
       "/* on hover */\n",
       "#sk-container-id-1 div.sk-estimator:hover {\n",
       "  /* unfitted */\n",
       "  background-color: var(--sklearn-color-unfitted-level-2);\n",
       "}\n",
       "\n",
       "#sk-container-id-1 div.sk-estimator.fitted:hover {\n",
       "  /* fitted */\n",
       "  background-color: var(--sklearn-color-fitted-level-2);\n",
       "}\n",
       "\n",
       "/* Specification for estimator info (e.g. \"i\" and \"?\") */\n",
       "\n",
       "/* Common style for \"i\" and \"?\" */\n",
       "\n",
       ".sk-estimator-doc-link,\n",
       "a:link.sk-estimator-doc-link,\n",
       "a:visited.sk-estimator-doc-link {\n",
       "  float: right;\n",
       "  font-size: smaller;\n",
       "  line-height: 1em;\n",
       "  font-family: monospace;\n",
       "  background-color: var(--sklearn-color-background);\n",
       "  border-radius: 1em;\n",
       "  height: 1em;\n",
       "  width: 1em;\n",
       "  text-decoration: none !important;\n",
       "  margin-left: 0.5em;\n",
       "  text-align: center;\n",
       "  /* unfitted */\n",
       "  border: var(--sklearn-color-unfitted-level-1) 1pt solid;\n",
       "  color: var(--sklearn-color-unfitted-level-1);\n",
       "}\n",
       "\n",
       ".sk-estimator-doc-link.fitted,\n",
       "a:link.sk-estimator-doc-link.fitted,\n",
       "a:visited.sk-estimator-doc-link.fitted {\n",
       "  /* fitted */\n",
       "  border: var(--sklearn-color-fitted-level-1) 1pt solid;\n",
       "  color: var(--sklearn-color-fitted-level-1);\n",
       "}\n",
       "\n",
       "/* On hover */\n",
       "div.sk-estimator:hover .sk-estimator-doc-link:hover,\n",
       ".sk-estimator-doc-link:hover,\n",
       "div.sk-label-container:hover .sk-estimator-doc-link:hover,\n",
       ".sk-estimator-doc-link:hover {\n",
       "  /* unfitted */\n",
       "  background-color: var(--sklearn-color-unfitted-level-3);\n",
       "  color: var(--sklearn-color-background);\n",
       "  text-decoration: none;\n",
       "}\n",
       "\n",
       "div.sk-estimator.fitted:hover .sk-estimator-doc-link.fitted:hover,\n",
       ".sk-estimator-doc-link.fitted:hover,\n",
       "div.sk-label-container:hover .sk-estimator-doc-link.fitted:hover,\n",
       ".sk-estimator-doc-link.fitted:hover {\n",
       "  /* fitted */\n",
       "  background-color: var(--sklearn-color-fitted-level-3);\n",
       "  color: var(--sklearn-color-background);\n",
       "  text-decoration: none;\n",
       "}\n",
       "\n",
       "/* Span, style for the box shown on hovering the info icon */\n",
       ".sk-estimator-doc-link span {\n",
       "  display: none;\n",
       "  z-index: 9999;\n",
       "  position: relative;\n",
       "  font-weight: normal;\n",
       "  right: .2ex;\n",
       "  padding: .5ex;\n",
       "  margin: .5ex;\n",
       "  width: min-content;\n",
       "  min-width: 20ex;\n",
       "  max-width: 50ex;\n",
       "  color: var(--sklearn-color-text);\n",
       "  box-shadow: 2pt 2pt 4pt #999;\n",
       "  /* unfitted */\n",
       "  background: var(--sklearn-color-unfitted-level-0);\n",
       "  border: .5pt solid var(--sklearn-color-unfitted-level-3);\n",
       "}\n",
       "\n",
       ".sk-estimator-doc-link.fitted span {\n",
       "  /* fitted */\n",
       "  background: var(--sklearn-color-fitted-level-0);\n",
       "  border: var(--sklearn-color-fitted-level-3);\n",
       "}\n",
       "\n",
       ".sk-estimator-doc-link:hover span {\n",
       "  display: block;\n",
       "}\n",
       "\n",
       "/* \"?\"-specific style due to the `<a>` HTML tag */\n",
       "\n",
       "#sk-container-id-1 a.estimator_doc_link {\n",
       "  float: right;\n",
       "  font-size: 1rem;\n",
       "  line-height: 1em;\n",
       "  font-family: monospace;\n",
       "  background-color: var(--sklearn-color-background);\n",
       "  border-radius: 1rem;\n",
       "  height: 1rem;\n",
       "  width: 1rem;\n",
       "  text-decoration: none;\n",
       "  /* unfitted */\n",
       "  color: var(--sklearn-color-unfitted-level-1);\n",
       "  border: var(--sklearn-color-unfitted-level-1) 1pt solid;\n",
       "}\n",
       "\n",
       "#sk-container-id-1 a.estimator_doc_link.fitted {\n",
       "  /* fitted */\n",
       "  border: var(--sklearn-color-fitted-level-1) 1pt solid;\n",
       "  color: var(--sklearn-color-fitted-level-1);\n",
       "}\n",
       "\n",
       "/* On hover */\n",
       "#sk-container-id-1 a.estimator_doc_link:hover {\n",
       "  /* unfitted */\n",
       "  background-color: var(--sklearn-color-unfitted-level-3);\n",
       "  color: var(--sklearn-color-background);\n",
       "  text-decoration: none;\n",
       "}\n",
       "\n",
       "#sk-container-id-1 a.estimator_doc_link.fitted:hover {\n",
       "  /* fitted */\n",
       "  background-color: var(--sklearn-color-fitted-level-3);\n",
       "}\n",
       "\n",
       ".estimator-table summary {\n",
       "    padding: .5rem;\n",
       "    font-family: monospace;\n",
       "    cursor: pointer;\n",
       "}\n",
       "\n",
       ".estimator-table details[open] {\n",
       "    padding-left: 0.1rem;\n",
       "    padding-right: 0.1rem;\n",
       "    padding-bottom: 0.3rem;\n",
       "}\n",
       "\n",
       ".estimator-table .parameters-table {\n",
       "    margin-left: auto !important;\n",
       "    margin-right: auto !important;\n",
       "}\n",
       "\n",
       ".estimator-table .parameters-table tr:nth-child(odd) {\n",
       "    background-color: #fff;\n",
       "}\n",
       "\n",
       ".estimator-table .parameters-table tr:nth-child(even) {\n",
       "    background-color: #f6f6f6;\n",
       "}\n",
       "\n",
       ".estimator-table .parameters-table tr:hover {\n",
       "    background-color: #e0e0e0;\n",
       "}\n",
       "\n",
       ".estimator-table table td {\n",
       "    border: 1px solid rgba(106, 105, 104, 0.232);\n",
       "}\n",
       "\n",
       ".user-set td {\n",
       "    color:rgb(255, 94, 0);\n",
       "    text-align: left;\n",
       "}\n",
       "\n",
       ".user-set td.value pre {\n",
       "    color:rgb(255, 94, 0) !important;\n",
       "    background-color: transparent !important;\n",
       "}\n",
       "\n",
       ".default td {\n",
       "    color: black;\n",
       "    text-align: left;\n",
       "}\n",
       "\n",
       ".user-set td i,\n",
       ".default td i {\n",
       "    color: black;\n",
       "}\n",
       "\n",
       ".copy-paste-icon {\n",
       "    background-image: url(data:image/svg+xml;base64,PHN2ZyB4bWxucz0iaHR0cDovL3d3dy53My5vcmcvMjAwMC9zdmciIHZpZXdCb3g9IjAgMCA0NDggNTEyIj48IS0tIUZvbnQgQXdlc29tZSBGcmVlIDYuNy4yIGJ5IEBmb250YXdlc29tZSAtIGh0dHBzOi8vZm9udGF3ZXNvbWUuY29tIExpY2Vuc2UgLSBodHRwczovL2ZvbnRhd2Vzb21lLmNvbS9saWNlbnNlL2ZyZWUgQ29weXJpZ2h0IDIwMjUgRm9udGljb25zLCBJbmMuLS0+PHBhdGggZD0iTTIwOCAwTDMzMi4xIDBjMTIuNyAwIDI0LjkgNS4xIDMzLjkgMTQuMWw2Ny45IDY3LjljOSA5IDE0LjEgMjEuMiAxNC4xIDMzLjlMNDQ4IDMzNmMwIDI2LjUtMjEuNSA0OC00OCA0OGwtMTkyIDBjLTI2LjUgMC00OC0yMS41LTQ4LTQ4bDAtMjg4YzAtMjYuNSAyMS41LTQ4IDQ4LTQ4ek00OCAxMjhsODAgMCAwIDY0LTY0IDAgMCAyNTYgMTkyIDAgMC0zMiA2NCAwIDAgNDhjMCAyNi41LTIxLjUgNDgtNDggNDhMNDggNTEyYy0yNi41IDAtNDgtMjEuNS00OC00OEwwIDE3NmMwLTI2LjUgMjEuNS00OCA0OC00OHoiLz48L3N2Zz4=);\n",
       "    background-repeat: no-repeat;\n",
       "    background-size: 14px 14px;\n",
       "    background-position: 0;\n",
       "    display: inline-block;\n",
       "    width: 14px;\n",
       "    height: 14px;\n",
       "    cursor: pointer;\n",
       "}\n",
       "</style><body><div id=\"sk-container-id-1\" class=\"sk-top-container\"><div class=\"sk-text-repr-fallback\"><pre>Pipeline(steps=[(&#x27;tfidf&#x27;, TfidfVectorizer()), (&#x27;clf&#x27;, MultinomialNB())])</pre><b>In a Jupyter environment, please rerun this cell to show the HTML representation or trust the notebook. <br />On GitHub, the HTML representation is unable to render, please try loading this page with nbviewer.org.</b></div><div class=\"sk-container\" hidden><div class=\"sk-item sk-dashed-wrapped\"><div class=\"sk-label-container\"><div class=\"sk-label fitted sk-toggleable\"><input class=\"sk-toggleable__control sk-hidden--visually\" id=\"sk-estimator-id-1\" type=\"checkbox\" ><label for=\"sk-estimator-id-1\" class=\"sk-toggleable__label fitted sk-toggleable__label-arrow\"><div><div>Pipeline</div></div><div><a class=\"sk-estimator-doc-link fitted\" rel=\"noreferrer\" target=\"_blank\" href=\"https://scikit-learn.org/1.7/modules/generated/sklearn.pipeline.Pipeline.html\">?<span>Documentation for Pipeline</span></a><span class=\"sk-estimator-doc-link fitted\">i<span>Fitted</span></span></div></label><div class=\"sk-toggleable__content fitted\" data-param-prefix=\"\">\n",
       "        <div class=\"estimator-table\">\n",
       "            <details>\n",
       "                <summary>Parameters</summary>\n",
       "                <table class=\"parameters-table\">\n",
       "                  <tbody>\n",
       "                    \n",
       "        <tr class=\"user-set\">\n",
       "            <td><i class=\"copy-paste-icon\"\n",
       "                 onclick=\"copyToClipboard('steps',\n",
       "                          this.parentElement.nextElementSibling)\"\n",
       "            ></i></td>\n",
       "            <td class=\"param\">steps&nbsp;</td>\n",
       "            <td class=\"value\">[(&#x27;tfidf&#x27;, ...), (&#x27;clf&#x27;, ...)]</td>\n",
       "        </tr>\n",
       "    \n",
       "\n",
       "        <tr class=\"default\">\n",
       "            <td><i class=\"copy-paste-icon\"\n",
       "                 onclick=\"copyToClipboard('transform_input',\n",
       "                          this.parentElement.nextElementSibling)\"\n",
       "            ></i></td>\n",
       "            <td class=\"param\">transform_input&nbsp;</td>\n",
       "            <td class=\"value\">None</td>\n",
       "        </tr>\n",
       "    \n",
       "\n",
       "        <tr class=\"default\">\n",
       "            <td><i class=\"copy-paste-icon\"\n",
       "                 onclick=\"copyToClipboard('memory',\n",
       "                          this.parentElement.nextElementSibling)\"\n",
       "            ></i></td>\n",
       "            <td class=\"param\">memory&nbsp;</td>\n",
       "            <td class=\"value\">None</td>\n",
       "        </tr>\n",
       "    \n",
       "\n",
       "        <tr class=\"default\">\n",
       "            <td><i class=\"copy-paste-icon\"\n",
       "                 onclick=\"copyToClipboard('verbose',\n",
       "                          this.parentElement.nextElementSibling)\"\n",
       "            ></i></td>\n",
       "            <td class=\"param\">verbose&nbsp;</td>\n",
       "            <td class=\"value\">False</td>\n",
       "        </tr>\n",
       "    \n",
       "                  </tbody>\n",
       "                </table>\n",
       "            </details>\n",
       "        </div>\n",
       "    </div></div></div><div class=\"sk-serial\"><div class=\"sk-item\"><div class=\"sk-estimator fitted sk-toggleable\"><input class=\"sk-toggleable__control sk-hidden--visually\" id=\"sk-estimator-id-2\" type=\"checkbox\" ><label for=\"sk-estimator-id-2\" class=\"sk-toggleable__label fitted sk-toggleable__label-arrow\"><div><div>TfidfVectorizer</div></div><div><a class=\"sk-estimator-doc-link fitted\" rel=\"noreferrer\" target=\"_blank\" href=\"https://scikit-learn.org/1.7/modules/generated/sklearn.feature_extraction.text.TfidfVectorizer.html\">?<span>Documentation for TfidfVectorizer</span></a></div></label><div class=\"sk-toggleable__content fitted\" data-param-prefix=\"tfidf__\">\n",
       "        <div class=\"estimator-table\">\n",
       "            <details>\n",
       "                <summary>Parameters</summary>\n",
       "                <table class=\"parameters-table\">\n",
       "                  <tbody>\n",
       "                    \n",
       "        <tr class=\"default\">\n",
       "            <td><i class=\"copy-paste-icon\"\n",
       "                 onclick=\"copyToClipboard('input',\n",
       "                          this.parentElement.nextElementSibling)\"\n",
       "            ></i></td>\n",
       "            <td class=\"param\">input&nbsp;</td>\n",
       "            <td class=\"value\">&#x27;content&#x27;</td>\n",
       "        </tr>\n",
       "    \n",
       "\n",
       "        <tr class=\"default\">\n",
       "            <td><i class=\"copy-paste-icon\"\n",
       "                 onclick=\"copyToClipboard('encoding',\n",
       "                          this.parentElement.nextElementSibling)\"\n",
       "            ></i></td>\n",
       "            <td class=\"param\">encoding&nbsp;</td>\n",
       "            <td class=\"value\">&#x27;utf-8&#x27;</td>\n",
       "        </tr>\n",
       "    \n",
       "\n",
       "        <tr class=\"default\">\n",
       "            <td><i class=\"copy-paste-icon\"\n",
       "                 onclick=\"copyToClipboard('decode_error',\n",
       "                          this.parentElement.nextElementSibling)\"\n",
       "            ></i></td>\n",
       "            <td class=\"param\">decode_error&nbsp;</td>\n",
       "            <td class=\"value\">&#x27;strict&#x27;</td>\n",
       "        </tr>\n",
       "    \n",
       "\n",
       "        <tr class=\"default\">\n",
       "            <td><i class=\"copy-paste-icon\"\n",
       "                 onclick=\"copyToClipboard('strip_accents',\n",
       "                          this.parentElement.nextElementSibling)\"\n",
       "            ></i></td>\n",
       "            <td class=\"param\">strip_accents&nbsp;</td>\n",
       "            <td class=\"value\">None</td>\n",
       "        </tr>\n",
       "    \n",
       "\n",
       "        <tr class=\"default\">\n",
       "            <td><i class=\"copy-paste-icon\"\n",
       "                 onclick=\"copyToClipboard('lowercase',\n",
       "                          this.parentElement.nextElementSibling)\"\n",
       "            ></i></td>\n",
       "            <td class=\"param\">lowercase&nbsp;</td>\n",
       "            <td class=\"value\">True</td>\n",
       "        </tr>\n",
       "    \n",
       "\n",
       "        <tr class=\"default\">\n",
       "            <td><i class=\"copy-paste-icon\"\n",
       "                 onclick=\"copyToClipboard('preprocessor',\n",
       "                          this.parentElement.nextElementSibling)\"\n",
       "            ></i></td>\n",
       "            <td class=\"param\">preprocessor&nbsp;</td>\n",
       "            <td class=\"value\">None</td>\n",
       "        </tr>\n",
       "    \n",
       "\n",
       "        <tr class=\"default\">\n",
       "            <td><i class=\"copy-paste-icon\"\n",
       "                 onclick=\"copyToClipboard('tokenizer',\n",
       "                          this.parentElement.nextElementSibling)\"\n",
       "            ></i></td>\n",
       "            <td class=\"param\">tokenizer&nbsp;</td>\n",
       "            <td class=\"value\">None</td>\n",
       "        </tr>\n",
       "    \n",
       "\n",
       "        <tr class=\"default\">\n",
       "            <td><i class=\"copy-paste-icon\"\n",
       "                 onclick=\"copyToClipboard('analyzer',\n",
       "                          this.parentElement.nextElementSibling)\"\n",
       "            ></i></td>\n",
       "            <td class=\"param\">analyzer&nbsp;</td>\n",
       "            <td class=\"value\">&#x27;word&#x27;</td>\n",
       "        </tr>\n",
       "    \n",
       "\n",
       "        <tr class=\"default\">\n",
       "            <td><i class=\"copy-paste-icon\"\n",
       "                 onclick=\"copyToClipboard('stop_words',\n",
       "                          this.parentElement.nextElementSibling)\"\n",
       "            ></i></td>\n",
       "            <td class=\"param\">stop_words&nbsp;</td>\n",
       "            <td class=\"value\">None</td>\n",
       "        </tr>\n",
       "    \n",
       "\n",
       "        <tr class=\"default\">\n",
       "            <td><i class=\"copy-paste-icon\"\n",
       "                 onclick=\"copyToClipboard('token_pattern',\n",
       "                          this.parentElement.nextElementSibling)\"\n",
       "            ></i></td>\n",
       "            <td class=\"param\">token_pattern&nbsp;</td>\n",
       "            <td class=\"value\">&#x27;(?u)\\\\b\\\\w\\\\w+\\\\b&#x27;</td>\n",
       "        </tr>\n",
       "    \n",
       "\n",
       "        <tr class=\"default\">\n",
       "            <td><i class=\"copy-paste-icon\"\n",
       "                 onclick=\"copyToClipboard('ngram_range',\n",
       "                          this.parentElement.nextElementSibling)\"\n",
       "            ></i></td>\n",
       "            <td class=\"param\">ngram_range&nbsp;</td>\n",
       "            <td class=\"value\">(1, ...)</td>\n",
       "        </tr>\n",
       "    \n",
       "\n",
       "        <tr class=\"default\">\n",
       "            <td><i class=\"copy-paste-icon\"\n",
       "                 onclick=\"copyToClipboard('max_df',\n",
       "                          this.parentElement.nextElementSibling)\"\n",
       "            ></i></td>\n",
       "            <td class=\"param\">max_df&nbsp;</td>\n",
       "            <td class=\"value\">1.0</td>\n",
       "        </tr>\n",
       "    \n",
       "\n",
       "        <tr class=\"default\">\n",
       "            <td><i class=\"copy-paste-icon\"\n",
       "                 onclick=\"copyToClipboard('min_df',\n",
       "                          this.parentElement.nextElementSibling)\"\n",
       "            ></i></td>\n",
       "            <td class=\"param\">min_df&nbsp;</td>\n",
       "            <td class=\"value\">1</td>\n",
       "        </tr>\n",
       "    \n",
       "\n",
       "        <tr class=\"default\">\n",
       "            <td><i class=\"copy-paste-icon\"\n",
       "                 onclick=\"copyToClipboard('max_features',\n",
       "                          this.parentElement.nextElementSibling)\"\n",
       "            ></i></td>\n",
       "            <td class=\"param\">max_features&nbsp;</td>\n",
       "            <td class=\"value\">None</td>\n",
       "        </tr>\n",
       "    \n",
       "\n",
       "        <tr class=\"default\">\n",
       "            <td><i class=\"copy-paste-icon\"\n",
       "                 onclick=\"copyToClipboard('vocabulary',\n",
       "                          this.parentElement.nextElementSibling)\"\n",
       "            ></i></td>\n",
       "            <td class=\"param\">vocabulary&nbsp;</td>\n",
       "            <td class=\"value\">None</td>\n",
       "        </tr>\n",
       "    \n",
       "\n",
       "        <tr class=\"default\">\n",
       "            <td><i class=\"copy-paste-icon\"\n",
       "                 onclick=\"copyToClipboard('binary',\n",
       "                          this.parentElement.nextElementSibling)\"\n",
       "            ></i></td>\n",
       "            <td class=\"param\">binary&nbsp;</td>\n",
       "            <td class=\"value\">False</td>\n",
       "        </tr>\n",
       "    \n",
       "\n",
       "        <tr class=\"default\">\n",
       "            <td><i class=\"copy-paste-icon\"\n",
       "                 onclick=\"copyToClipboard('dtype',\n",
       "                          this.parentElement.nextElementSibling)\"\n",
       "            ></i></td>\n",
       "            <td class=\"param\">dtype&nbsp;</td>\n",
       "            <td class=\"value\">&lt;class &#x27;numpy.float64&#x27;&gt;</td>\n",
       "        </tr>\n",
       "    \n",
       "\n",
       "        <tr class=\"default\">\n",
       "            <td><i class=\"copy-paste-icon\"\n",
       "                 onclick=\"copyToClipboard('norm',\n",
       "                          this.parentElement.nextElementSibling)\"\n",
       "            ></i></td>\n",
       "            <td class=\"param\">norm&nbsp;</td>\n",
       "            <td class=\"value\">&#x27;l2&#x27;</td>\n",
       "        </tr>\n",
       "    \n",
       "\n",
       "        <tr class=\"default\">\n",
       "            <td><i class=\"copy-paste-icon\"\n",
       "                 onclick=\"copyToClipboard('use_idf',\n",
       "                          this.parentElement.nextElementSibling)\"\n",
       "            ></i></td>\n",
       "            <td class=\"param\">use_idf&nbsp;</td>\n",
       "            <td class=\"value\">True</td>\n",
       "        </tr>\n",
       "    \n",
       "\n",
       "        <tr class=\"default\">\n",
       "            <td><i class=\"copy-paste-icon\"\n",
       "                 onclick=\"copyToClipboard('smooth_idf',\n",
       "                          this.parentElement.nextElementSibling)\"\n",
       "            ></i></td>\n",
       "            <td class=\"param\">smooth_idf&nbsp;</td>\n",
       "            <td class=\"value\">True</td>\n",
       "        </tr>\n",
       "    \n",
       "\n",
       "        <tr class=\"default\">\n",
       "            <td><i class=\"copy-paste-icon\"\n",
       "                 onclick=\"copyToClipboard('sublinear_tf',\n",
       "                          this.parentElement.nextElementSibling)\"\n",
       "            ></i></td>\n",
       "            <td class=\"param\">sublinear_tf&nbsp;</td>\n",
       "            <td class=\"value\">False</td>\n",
       "        </tr>\n",
       "    \n",
       "                  </tbody>\n",
       "                </table>\n",
       "            </details>\n",
       "        </div>\n",
       "    </div></div></div><div class=\"sk-item\"><div class=\"sk-estimator fitted sk-toggleable\"><input class=\"sk-toggleable__control sk-hidden--visually\" id=\"sk-estimator-id-3\" type=\"checkbox\" ><label for=\"sk-estimator-id-3\" class=\"sk-toggleable__label fitted sk-toggleable__label-arrow\"><div><div>MultinomialNB</div></div><div><a class=\"sk-estimator-doc-link fitted\" rel=\"noreferrer\" target=\"_blank\" href=\"https://scikit-learn.org/1.7/modules/generated/sklearn.naive_bayes.MultinomialNB.html\">?<span>Documentation for MultinomialNB</span></a></div></label><div class=\"sk-toggleable__content fitted\" data-param-prefix=\"clf__\">\n",
       "        <div class=\"estimator-table\">\n",
       "            <details>\n",
       "                <summary>Parameters</summary>\n",
       "                <table class=\"parameters-table\">\n",
       "                  <tbody>\n",
       "                    \n",
       "        <tr class=\"default\">\n",
       "            <td><i class=\"copy-paste-icon\"\n",
       "                 onclick=\"copyToClipboard('alpha',\n",
       "                          this.parentElement.nextElementSibling)\"\n",
       "            ></i></td>\n",
       "            <td class=\"param\">alpha&nbsp;</td>\n",
       "            <td class=\"value\">1.0</td>\n",
       "        </tr>\n",
       "    \n",
       "\n",
       "        <tr class=\"default\">\n",
       "            <td><i class=\"copy-paste-icon\"\n",
       "                 onclick=\"copyToClipboard('force_alpha',\n",
       "                          this.parentElement.nextElementSibling)\"\n",
       "            ></i></td>\n",
       "            <td class=\"param\">force_alpha&nbsp;</td>\n",
       "            <td class=\"value\">True</td>\n",
       "        </tr>\n",
       "    \n",
       "\n",
       "        <tr class=\"default\">\n",
       "            <td><i class=\"copy-paste-icon\"\n",
       "                 onclick=\"copyToClipboard('fit_prior',\n",
       "                          this.parentElement.nextElementSibling)\"\n",
       "            ></i></td>\n",
       "            <td class=\"param\">fit_prior&nbsp;</td>\n",
       "            <td class=\"value\">True</td>\n",
       "        </tr>\n",
       "    \n",
       "\n",
       "        <tr class=\"default\">\n",
       "            <td><i class=\"copy-paste-icon\"\n",
       "                 onclick=\"copyToClipboard('class_prior',\n",
       "                          this.parentElement.nextElementSibling)\"\n",
       "            ></i></td>\n",
       "            <td class=\"param\">class_prior&nbsp;</td>\n",
       "            <td class=\"value\">None</td>\n",
       "        </tr>\n",
       "    \n",
       "                  </tbody>\n",
       "                </table>\n",
       "            </details>\n",
       "        </div>\n",
       "    </div></div></div></div></div></div></div><script>function copyToClipboard(text, element) {\n",
       "    // Get the parameter prefix from the closest toggleable content\n",
       "    const toggleableContent = element.closest('.sk-toggleable__content');\n",
       "    const paramPrefix = toggleableContent ? toggleableContent.dataset.paramPrefix : '';\n",
       "    const fullParamName = paramPrefix ? `${paramPrefix}${text}` : text;\n",
       "\n",
       "    const originalStyle = element.style;\n",
       "    const computedStyle = window.getComputedStyle(element);\n",
       "    const originalWidth = computedStyle.width;\n",
       "    const originalHTML = element.innerHTML.replace('Copied!', '');\n",
       "\n",
       "    navigator.clipboard.writeText(fullParamName)\n",
       "        .then(() => {\n",
       "            element.style.width = originalWidth;\n",
       "            element.style.color = 'green';\n",
       "            element.innerHTML = \"Copied!\";\n",
       "\n",
       "            setTimeout(() => {\n",
       "                element.innerHTML = originalHTML;\n",
       "                element.style = originalStyle;\n",
       "            }, 2000);\n",
       "        })\n",
       "        .catch(err => {\n",
       "            console.error('Failed to copy:', err);\n",
       "            element.style.color = 'red';\n",
       "            element.innerHTML = \"Failed!\";\n",
       "            setTimeout(() => {\n",
       "                element.innerHTML = originalHTML;\n",
       "                element.style = originalStyle;\n",
       "            }, 2000);\n",
       "        });\n",
       "    return false;\n",
       "}\n",
       "\n",
       "document.querySelectorAll('.fa-regular.fa-copy').forEach(function(element) {\n",
       "    const toggleableContent = element.closest('.sk-toggleable__content');\n",
       "    const paramPrefix = toggleableContent ? toggleableContent.dataset.paramPrefix : '';\n",
       "    const paramName = element.parentElement.nextElementSibling.textContent.trim();\n",
       "    const fullParamName = paramPrefix ? `${paramPrefix}${paramName}` : paramName;\n",
       "\n",
       "    element.setAttribute('title', fullParamName);\n",
       "});\n",
       "</script></body>"
      ],
      "text/plain": [
       "Pipeline(steps=[('tfidf', TfidfVectorizer()), ('clf', MultinomialNB())])"
      ]
     },
     "execution_count": 19,
     "metadata": {},
     "output_type": "execute_result"
    }
   ],
   "source": [
    "# Lets build the baseline model (Naive Bayes with TF-IDF encoder)\n",
    "\n",
    "from sklearn.feature_extraction.text import TfidfVectorizer\n",
    "from sklearn.naive_bayes import MultinomialNB\n",
    "from sklearn.pipeline import Pipeline\n",
    "\n",
    "model_0 = Pipeline([\n",
    "    (\"tfidf\", TfidfVectorizer()), # convert the words to numbers\n",
    "    (\"clf\", MultinomialNB()), # model the text\n",
    "])\n",
    "\n",
    "# Fit the pipeline to the training data\n",
    "model_0.fit(train_sentences, train_labels)"
   ]
  },
  {
   "cell_type": "code",
   "execution_count": 20,
   "id": "4a1aef3f-83b2-493b-9936-4a229cb5f077",
   "metadata": {},
   "outputs": [
    {
     "data": {
      "text/plain": [
       "0.7208096353295417"
      ]
     },
     "execution_count": 20,
     "metadata": {},
     "output_type": "execute_result"
    }
   ],
   "source": [
    "# Evaluate our baseline score\n",
    "model_0_score = model_0.score(valid_sentences, valid_labels)\n",
    "model_0_score"
   ]
  },
  {
   "cell_type": "code",
   "execution_count": 21,
   "id": "a0521c5d-19dc-46eb-a731-250ce1c9db21",
   "metadata": {},
   "outputs": [],
   "source": [
    "model_0_preds = model_0.predict(valid_sentences)"
   ]
  },
  {
   "cell_type": "code",
   "execution_count": 22,
   "id": "656d54f3-42ef-4992-83e3-d929b0c1b502",
   "metadata": {},
   "outputs": [
    {
     "data": {
      "text/plain": [
       "{'Model Accuracy': 0.7208096353295417,\n",
       " 'Model Precision': 0.7170592041988081,\n",
       " 'Model Recall': 0.7208096353295417,\n",
       " 'Model F1': 0.6970149095930861,\n",
       " 'Model Confusion Matrix': array([[1476,  796,  688,   98,  186],\n",
       "        [ 211, 2706,  426,    5, 1214],\n",
       "        [  83,   77, 8607,    6, 1106],\n",
       "        [ 507,  425,  976,  321,  147],\n",
       "        [  22,  176, 1195,    1, 8435]], dtype=int64)}"
      ]
     },
     "execution_count": 22,
     "metadata": {},
     "output_type": "execute_result"
    }
   ],
   "source": [
    "# Lets make a calulation function which finds the metrics\n",
    "from sklearn.metrics import confusion_matrix,accuracy_score, precision_score, recall_score,f1_score\n",
    "def calculate_results(y_pred, y_true):\n",
    "    model_precision = precision_score(y_pred=y_pred,y_true=y_true, average=\"weighted\")\n",
    "    model_accuracy = accuracy_score(y_pred=y_pred,y_true=y_true)\n",
    "    model_recall = recall_score(y_pred=y_pred,y_true=y_true, average=\"weighted\")\n",
    "    model_f1 = f1_score(y_pred=y_pred,y_true=y_true, average=\"weighted\")\n",
    "    model_confusion = confusion_matrix(y_pred=y_pred,y_true=y_true)\n",
    "    model_results = {\"Model Accuracy\": model_accuracy,\"Model Precision\":model_precision,\"Model Recall\":model_recall,\"Model F1\":model_f1,\"Model Confusion Matrix\":model_confusion}\n",
    "    return model_results\n",
    "\n",
    "model_0_metrics = calculate_results(model_0_preds, valid_labels)\n",
    "model_0_metrics"
   ]
  },
  {
   "cell_type": "markdown",
   "id": "c621889c-9d63-49be-927f-8bea83b73b81",
   "metadata": {
    "jp-MarkdownHeadingCollapsed": true
   },
   "source": [
    "# Model_1 : A simple neural network with a max pooling layer and 5 output dense neurons"
   ]
  },
  {
   "cell_type": "code",
   "execution_count": 23,
   "id": "571e0ee0-c151-4cf4-9d4c-56065689202c",
   "metadata": {},
   "outputs": [
    {
     "data": {
      "text/plain": [
       "array(['OBJECTIVE', 'METHODS', 'METHODS', ..., 'RESULTS', 'CONCLUSIONS',\n",
       "       'CONCLUSIONS'], dtype=object)"
      ]
     },
     "execution_count": 23,
     "metadata": {},
     "output_type": "execute_result"
    }
   ],
   "source": [
    "train_labels"
   ]
  },
  {
   "cell_type": "code",
   "execution_count": 24,
   "id": "0115f0a8-1ceb-4042-ad7e-8f6b98c317b8",
   "metadata": {},
   "outputs": [],
   "source": [
    "# Create a path for saving model's callbacks\n",
    "model_dir = \"model_logs\"\n",
    " # Also import some helper functions\n",
    "from helper_functions import create_tensorboard_callback"
   ]
  },
  {
   "cell_type": "code",
   "execution_count": 25,
   "id": "6d415886-4755-45c7-9cbe-69a4b48f2e71",
   "metadata": {},
   "outputs": [],
   "source": [
    "# Layout model_1 with the layers\n",
    "inputs = layers.Input(shape=(1,), dtype=tf.string)\n",
    "x = text_vectorizer(inputs)\n",
    "x = embedding_layer(x)\n",
    "x = layers.GlobalMaxPool1D()(x) # Condenses the feature vector for each token to one vector\n",
    "outputs = layers.Dense(5, activation=\"softmax\")(x)\n",
    "\n",
    "#Create the model\n",
    "model_1 = tf.keras.Model(inputs, outputs, name=\"model_1_dense\")"
   ]
  },
  {
   "cell_type": "code",
   "execution_count": 26,
   "id": "cf9fb373-315a-439f-9ec9-1f9ce7a97a3e",
   "metadata": {},
   "outputs": [
    {
     "name": "stdout",
     "output_type": "stream",
     "text": [
      "Saving TensorBoard log files to: model_logs/model_1_dense/20250914-183817\n",
      "Epoch 1/5\n",
      "5530/5530 [==============================] - 33s 6ms/step - loss: 0.6334 - accuracy: 0.7689 - val_loss: 0.5181 - val_accuracy: 0.8088\n",
      "Epoch 2/5\n",
      "5530/5530 [==============================] - 31s 6ms/step - loss: 0.4466 - accuracy: 0.8388 - val_loss: 0.5051 - val_accuracy: 0.8153\n",
      "Epoch 3/5\n",
      "5530/5530 [==============================] - 31s 6ms/step - loss: 0.3548 - accuracy: 0.8762 - val_loss: 0.5195 - val_accuracy: 0.8113\n",
      "Epoch 4/5\n",
      "5530/5530 [==============================] - 34s 6ms/step - loss: 0.2749 - accuracy: 0.9092 - val_loss: 0.5542 - val_accuracy: 0.8035\n",
      "Epoch 5/5\n",
      "5530/5530 [==============================] - 34s 6ms/step - loss: 0.2079 - accuracy: 0.9348 - val_loss: 0.5976 - val_accuracy: 0.7967\n"
     ]
    }
   ],
   "source": [
    "# Let's compile and fit the model\n",
    "model_1.compile(loss=tf.keras.losses.SparseCategoricalCrossentropy(),\n",
    "                optimizer=tf.keras.optimizers.Adam(),\n",
    "                metrics=[\"accuracy\"])\n",
    "model_1_history = model_1.fit(x=train_sentences, y=train_labels_enc, epochs=5, validation_data=(valid_sentences, valid_labels_enc), callbacks=create_tensorboard_callback(model_dir,\"model_1_dense\", ))"
   ]
  },
  {
   "cell_type": "code",
   "execution_count": 27,
   "id": "4077fefb-a436-4762-92b8-5ccc04205467",
   "metadata": {},
   "outputs": [
    {
     "name": "stdout",
     "output_type": "stream",
     "text": [
      "935/935 [==============================] - 2s 2ms/step\n"
     ]
    }
   ],
   "source": [
    "# Get the prediction probabilities of the valid data\n",
    "model_1_preds = model_1.predict(valid_sentences)"
   ]
  },
  {
   "cell_type": "code",
   "execution_count": 28,
   "id": "3b113e75-1f33-4b22-9901-b88f88b93608",
   "metadata": {},
   "outputs": [],
   "source": [
    "# Turn the probabilities into labels\n",
    "model_1_preds_rounded = []\n",
    "for i in range(0, len(model_1_preds)):\n",
    "    index = model_1_preds[i].argmax()\n",
    "    model_1_preds_rounded.append(index)"
   ]
  },
  {
   "cell_type": "code",
   "execution_count": 29,
   "id": "4d068acd-59cd-44ec-9c95-4ab2969450a9",
   "metadata": {},
   "outputs": [
    {
     "data": {
      "text/plain": [
       "{'Model Accuracy': 0.7967213114754098,\n",
       " 'Model Precision': 0.7966160742930337,\n",
       " 'Model Recall': 0.7967213114754098,\n",
       " 'Model F1': 0.7965377626851979,\n",
       " 'Model Confusion Matrix': array([[1976,  426,  179,  608,   55],\n",
       "        [ 432, 3366,  143,  132,  489],\n",
       "        [ 141,  122, 8789,  130,  697],\n",
       "        [ 681,  184,  158, 1323,   30],\n",
       "        [  61,  634,  741,   33, 8360]], dtype=int64)}"
      ]
     },
     "execution_count": 29,
     "metadata": {},
     "output_type": "execute_result"
    }
   ],
   "source": [
    "# Let's see some metrics\n",
    "model_1_metrics = calculate_results(model_1_preds_rounded, valid_labels_enc)\n",
    "model_1_metrics"
   ]
  },
  {
   "cell_type": "markdown",
   "id": "6282a7ac-7ffb-41cc-a651-19759763141a",
   "metadata": {
    "jp-MarkdownHeadingCollapsed": true
   },
   "source": [
    "# Model_2 : ConV1D Model "
   ]
  },
  {
   "cell_type": "code",
   "execution_count": 30,
   "id": "cdfd7b10-fd22-4aad-bb9e-36d1b9cdce2f",
   "metadata": {},
   "outputs": [],
   "source": [
    "# Layout model_2 with the layers\n",
    "inputs = layers.Input(shape=(1,), dtype=tf.string)\n",
    "x = text_vectorizer(inputs)\n",
    "x = embedding_layer(x)\n",
    "x = layers.Conv1D(filters=64, kernel_size=5, activation=\"relu\", padding=\"same\")(x)\n",
    "x = layers.GlobalMaxPool1D()(x) # Condenses the feature vector for each token to one vector\n",
    "outputs = layers.Dense(5, activation=\"softmax\")(x)\n",
    "\n",
    "#Create the model\n",
    "model_2 = tf.keras.Model(inputs, outputs, name=\"model_2_ConV_1D\")"
   ]
  },
  {
   "cell_type": "code",
   "execution_count": 31,
   "id": "5ddbe863-bc26-4c04-89c5-2bb70f8d9bc8",
   "metadata": {},
   "outputs": [
    {
     "name": "stdout",
     "output_type": "stream",
     "text": [
      "Saving TensorBoard log files to: model_logs/model_2_ConV_1D/20250914-184103\n",
      "Epoch 1/5\n",
      "5530/5530 [==============================] - 38s 6ms/step - loss: 0.4677 - accuracy: 0.8318 - val_loss: 0.5043 - val_accuracy: 0.8138\n",
      "Epoch 2/5\n",
      "5530/5530 [==============================] - 34s 6ms/step - loss: 0.3015 - accuracy: 0.8954 - val_loss: 0.5456 - val_accuracy: 0.8097\n",
      "Epoch 3/5\n",
      "5530/5530 [==============================] - 34s 6ms/step - loss: 0.1848 - accuracy: 0.9398 - val_loss: 0.6415 - val_accuracy: 0.7977\n",
      "Epoch 4/5\n",
      "5530/5530 [==============================] - 35s 6ms/step - loss: 0.1043 - accuracy: 0.9674 - val_loss: 0.8126 - val_accuracy: 0.7873\n",
      "Epoch 5/5\n",
      "5530/5530 [==============================] - 35s 6ms/step - loss: 0.0584 - accuracy: 0.9818 - val_loss: 0.9716 - val_accuracy: 0.7776\n"
     ]
    }
   ],
   "source": [
    "# Let's compile and fit the model\n",
    "model_2.compile(loss=tf.keras.losses.SparseCategoricalCrossentropy(),\n",
    "                optimizer=tf.keras.optimizers.Adam(),\n",
    "                metrics=[\"accuracy\"])\n",
    "model_2_history = model_2.fit(x=train_sentences, y=train_labels_enc, epochs=5, validation_data=(valid_sentences, valid_labels_enc), callbacks=create_tensorboard_callback(model_dir,\"model_2_ConV_1D\", ))"
   ]
  },
  {
   "cell_type": "code",
   "execution_count": 32,
   "id": "f258b126-5754-44eb-a8c5-9911e42b4f3a",
   "metadata": {},
   "outputs": [
    {
     "name": "stdout",
     "output_type": "stream",
     "text": [
      "935/935 [==============================] - 2s 2ms/step\n"
     ]
    }
   ],
   "source": [
    "# Get the prediction probabilities of the valid data\n",
    "model_2_preds = model_2.predict(valid_sentences)\n",
    "\n",
    "# Turn the probabilities into labels\n",
    "model_2_preds_rounded = []\n",
    "for i in range(0, len(model_2_preds)):\n",
    "    index = model_2_preds[i].argmax()\n",
    "    model_2_preds_rounded.append(index)"
   ]
  },
  {
   "cell_type": "code",
   "execution_count": 33,
   "id": "9dc8f36f-aeae-43d6-87fc-4903fb14d9c8",
   "metadata": {},
   "outputs": [
    {
     "data": {
      "text/plain": [
       "{'Model Accuracy': 0.7775844764135162,\n",
       " 'Model Precision': 0.7833445831344554,\n",
       " 'Model Recall': 0.7775844764135162,\n",
       " 'Model F1': 0.7799045652227463,\n",
       " 'Model Confusion Matrix': array([[1931,  436,  162,  665,   50],\n",
       "        [ 499, 3308,  120,  149,  486],\n",
       "        [ 262,  177, 8636,  203,  601],\n",
       "        [ 743,  151,  116, 1335,   31],\n",
       "        [ 127,  807,  823,   40, 8032]], dtype=int64)}"
      ]
     },
     "execution_count": 33,
     "metadata": {},
     "output_type": "execute_result"
    }
   ],
   "source": [
    "# Let's see some metrics\n",
    "model_2_metrics = calculate_results(model_2_preds_rounded, valid_labels_enc)\n",
    "model_2_metrics"
   ]
  },
  {
   "cell_type": "markdown",
   "id": "ee349e81-ad5d-4825-a24c-0e2fdd16ea41",
   "metadata": {
    "jp-MarkdownHeadingCollapsed": true
   },
   "source": [
    "# Model_3 : ConV1D with character embeddings "
   ]
  },
  {
   "cell_type": "code",
   "execution_count": 34,
   "id": "5c6cee19-8625-4390-b925-a3d62520eb15",
   "metadata": {},
   "outputs": [
    {
     "data": {
      "text/plain": [
       "array(['To investigate the efficacy of @ weeks of daily low-dose oral prednisolone in improving pain , mobility , and systemic low-grade inflammation in the short term and whether the effect would be sustained at @ weeks in older adults with moderate to severe knee osteoarthritis ( OA ) .',\n",
       "       'A total of @ patients with primary knee OA were randomized @:@ ; @ received @ mg/day of prednisolone and @ received placebo for @ weeks .',\n",
       "       'Outcome measures included pain reduction and improvement in function scores and systemic inflammation markers .',\n",
       "       'Pain was assessed using the visual analog pain scale ( @-@ mm ) .',\n",
       "       'Secondary outcome measures included the Western Ontario and McMaster Universities Osteoarthritis Index scores , patient global assessment ( PGA ) of the severity of knee OA , and @-min walk distance ( @MWD ) .'],\n",
       "      dtype=object)"
      ]
     },
     "execution_count": 34,
     "metadata": {},
     "output_type": "execute_result"
    }
   ],
   "source": [
    "train_sentences[:5]"
   ]
  },
  {
   "cell_type": "code",
   "execution_count": 35,
   "id": "dcfc0f59-394f-4481-9812-fedc89143b98",
   "metadata": {},
   "outputs": [],
   "source": [
    "# Create a character-level tokenizer\n",
    "def split_chars(text):\n",
    "    return \" \".join(list(text))"
   ]
  },
  {
   "cell_type": "code",
   "execution_count": 36,
   "id": "684bf88a-3343-4e29-bd3b-1925cfdabe45",
   "metadata": {},
   "outputs": [
    {
     "data": {
      "text/plain": [
       "'w o r d'"
      ]
     },
     "execution_count": 36,
     "metadata": {},
     "output_type": "execute_result"
    }
   ],
   "source": [
    "split_char = split_chars(\"word\")\n",
    "split_char"
   ]
  },
  {
   "cell_type": "code",
   "execution_count": 37,
   "id": "35ff9131-a984-49ab-bd96-7ba237e13a91",
   "metadata": {
    "scrolled": true
   },
   "outputs": [],
   "source": [
    "# Lets create a characted seperated word array of the train sentences\n",
    "train_sentences_chars = []\n",
    "valid_sentences_chars = []\n",
    "for i in range(0, len(train_sentences)):\n",
    "    train_sentences_chars.append(split_chars(train_sentences[i]))\n",
    "\n",
    "for i in range(0, len(valid_sentences)):\n",
    "    valid_sentences_chars.append(split_chars(valid_sentences[i]))"
   ]
  },
  {
   "cell_type": "code",
   "execution_count": 38,
   "id": "57986056-ffff-4d85-b055-8bb482cc27da",
   "metadata": {},
   "outputs": [],
   "source": [
    "import numpy as np\n",
    "train_sentences_chars = np.array(train_sentences_chars)\n",
    "valid_sentences_chars = np.array(valid_sentences_chars)"
   ]
  },
  {
   "cell_type": "code",
   "execution_count": 39,
   "id": "5ff578c7-41b1-47d0-b5b5-30d3fa7dac67",
   "metadata": {},
   "outputs": [],
   "source": [
    "# Lets create a character tokenizer\n",
    "charactor_vectorizer = TextVectorization(max_tokens=40, # How many words in our vocab\n",
    "                                    standardize=\"lower_and_strip_punctuation\", # Make it more concise\n",
    "                                    split=\"whitespace\",\n",
    "                                    ngrams=None, # create groups of n-words\n",
    "                                    output_mode=\"int\",\n",
    "                                    output_sequence_length=290,\n",
    "                                    pad_to_max_tokens=True) # Pads to the end if empty\n",
    "\n",
    "charactor_vectorizer.adapt(train_sentences_chars)"
   ]
  },
  {
   "cell_type": "code",
   "execution_count": 40,
   "id": "68c0c355-e1b2-49ab-8cd0-7a4a8d0de27c",
   "metadata": {
    "scrolled": true
   },
   "outputs": [
    {
     "data": {
      "text/plain": [
       "['',\n",
       " '[UNK]',\n",
       " 'e',\n",
       " 't',\n",
       " 'i',\n",
       " 'a',\n",
       " 'n',\n",
       " 'o',\n",
       " 'r',\n",
       " 's',\n",
       " 'd',\n",
       " 'c',\n",
       " 'l',\n",
       " 'h',\n",
       " 'p',\n",
       " 'm',\n",
       " 'u',\n",
       " 'f',\n",
       " 'g',\n",
       " 'y',\n",
       " 'w',\n",
       " 'v',\n",
       " 'b',\n",
       " 'k',\n",
       " 'x',\n",
       " 'z',\n",
       " 'q',\n",
       " 'j']"
      ]
     },
     "execution_count": 40,
     "metadata": {},
     "output_type": "execute_result"
    }
   ],
   "source": [
    "(charactor_vectorizer.get_vocabulary())"
   ]
  },
  {
   "cell_type": "code",
   "execution_count": 41,
   "id": "04f142da-6b0d-451e-8a9c-1068e24c8a9a",
   "metadata": {},
   "outputs": [],
   "source": [
    "# Lets create a character embedding layer\n",
    "char_embedding = layers.Embedding(input_dim=40,\n",
    "                                  output_dim=128,\n",
    "                                  input_length=290)"
   ]
  },
  {
   "cell_type": "code",
   "execution_count": 42,
   "id": "c55d4448-5ccd-4a5c-b44b-65b679024148",
   "metadata": {
    "scrolled": true
   },
   "outputs": [
    {
     "data": {
      "text/plain": [
       "('T w o   h u n d r e d   p a t i e n t s   w i t h   a   t o t a l   o f   @   A K s   w e r e   e n r o l l e d   .',\n",
       " <tf.Tensor: shape=(290, 128), dtype=float32, numpy=\n",
       " array([[-0.00424381,  0.01534339, -0.0436782 , ...,  0.04256246,\n",
       "          0.00478983, -0.02758514],\n",
       "        [-0.02281387,  0.04246357, -0.02666314, ..., -0.04007772,\n",
       "         -0.00135188,  0.01827884],\n",
       "        [-0.03188147, -0.02734294,  0.00989804, ..., -0.01312317,\n",
       "          0.01572521, -0.00476866],\n",
       "        ...,\n",
       "        [-0.01793636, -0.04293225,  0.0098919 , ...,  0.04251743,\n",
       "          0.02291792, -0.00975095],\n",
       "        [-0.01793636, -0.04293225,  0.0098919 , ...,  0.04251743,\n",
       "          0.02291792, -0.00975095],\n",
       "        [-0.01793636, -0.04293225,  0.0098919 , ...,  0.04251743,\n",
       "          0.02291792, -0.00975095]], dtype=float32)>)"
      ]
     },
     "execution_count": 42,
     "metadata": {},
     "output_type": "execute_result"
    }
   ],
   "source": [
    "# Lets see some random char-embedded sentences\n",
    "i = random.randint(0, len(train_sentences_chars))\n",
    "\n",
    "train_sentences_chars[i], char_embedding(charactor_vectorizer(train_sentences_chars[i]))"
   ]
  },
  {
   "cell_type": "code",
   "execution_count": 43,
   "id": "713dd78a-62e2-4679-9678-579b5470913f",
   "metadata": {},
   "outputs": [],
   "source": [
    "# Time to create model_3\n",
    "inputs = layers.Input(shape=(1,), dtype=tf.string)\n",
    "x = charactor_vectorizer(inputs)\n",
    "x = char_embedding(x)\n",
    "x = layers.Conv1D(filters=64, kernel_size=5, activation=\"relu\", padding=\"same\")(x)\n",
    "x = layers.GlobalMaxPool1D()(x) # Condenses the feature vector for each token to one vector\n",
    "outputs = layers.Dense(5, activation=\"softmax\")(x)\n",
    "\n",
    "#Create the model\n",
    "model_3 = tf.keras.Model(inputs, outputs, name=\"model_3_ConV_1D_char_embedding\")"
   ]
  },
  {
   "cell_type": "code",
   "execution_count": 44,
   "id": "96dc265a-9541-428d-87a1-0e966ebfcef2",
   "metadata": {},
   "outputs": [
    {
     "name": "stdout",
     "output_type": "stream",
     "text": [
      "Saving TensorBoard log files to: model_logs/model_3_ConV_1D_char_embedding/20250914-184410\n",
      "Epoch 1/5\n",
      "5530/5530 [==============================] - 26s 5ms/step - loss: 0.8404 - accuracy: 0.6751 - val_loss: 0.7482 - val_accuracy: 0.7158\n",
      "Epoch 2/5\n",
      "5530/5530 [==============================] - 27s 5ms/step - loss: 0.7237 - accuracy: 0.7251 - val_loss: 0.7028 - val_accuracy: 0.7297\n",
      "Epoch 3/5\n",
      "5530/5530 [==============================] - 26s 5ms/step - loss: 0.6984 - accuracy: 0.7361 - val_loss: 0.6946 - val_accuracy: 0.7369\n",
      "Epoch 4/5\n",
      "5530/5530 [==============================] - 27s 5ms/step - loss: 0.6845 - accuracy: 0.7411 - val_loss: 0.6886 - val_accuracy: 0.7381\n",
      "Epoch 5/5\n",
      "5530/5530 [==============================] - 28s 5ms/step - loss: 0.6744 - accuracy: 0.7459 - val_loss: 0.6754 - val_accuracy: 0.7448\n"
     ]
    }
   ],
   "source": [
    "# Let's compile and fit the model\n",
    "model_3.compile(loss=tf.keras.losses.SparseCategoricalCrossentropy(),\n",
    "                optimizer=tf.keras.optimizers.Adam(),\n",
    "                metrics=[\"accuracy\"])\n",
    "model_3_history = model_3.fit(x=train_sentences_chars, y=train_labels_enc, epochs=5, validation_data=(valid_sentences_chars, valid_labels_enc), callbacks=create_tensorboard_callback(model_dir,\"model_3_ConV_1D_char_embedding\", ))"
   ]
  },
  {
   "cell_type": "code",
   "execution_count": 45,
   "id": "3a6f06ce-8128-482c-b773-e76d6e5e51e7",
   "metadata": {},
   "outputs": [
    {
     "name": "stdout",
     "output_type": "stream",
     "text": [
      "935/935 [==============================] - 2s 2ms/step\n"
     ]
    }
   ],
   "source": [
    "# Get the prediction probabilities of the valid data\n",
    "model_3_preds = model_3.predict(valid_sentences_chars)\n",
    "\n",
    "# Turn the probabilities into labels\n",
    "model_3_preds_rounded = []\n",
    "for i in range(0, len(model_3_preds)):\n",
    "    index = model_3_preds[i].argmax()\n",
    "    model_3_preds_rounded.append(index)"
   ]
  },
  {
   "cell_type": "code",
   "execution_count": 46,
   "id": "5d89b88d-0828-441d-8fac-b28ea9ad5e00",
   "metadata": {},
   "outputs": [
    {
     "data": {
      "text/plain": [
       "{'Model Accuracy': 0.7447975911676146,\n",
       " 'Model Precision': 0.7363554510388068,\n",
       " 'Model Recall': 0.7447975911676146,\n",
       " 'Model F1': 0.7361141268052065,\n",
       " 'Model Confusion Matrix': array([[1139,  802,  416,  753,  134],\n",
       "        [ 266, 2826,  352,  200,  918],\n",
       "        [  76,  171, 8665,  148,  819],\n",
       "        [ 360,  321,  280, 1350,   65],\n",
       "        [  30,  375, 1115,   27, 8282]], dtype=int64)}"
      ]
     },
     "execution_count": 46,
     "metadata": {},
     "output_type": "execute_result"
    }
   ],
   "source": [
    "# Let's see some metrics\n",
    "model_3_metrics = calculate_results(model_3_preds_rounded, valid_labels_enc)\n",
    "model_3_metrics"
   ]
  },
  {
   "cell_type": "markdown",
   "id": "f4efd30e-39f5-4a77-aa0f-8a765a61ba6b",
   "metadata": {},
   "source": [
    "# Model_4 : Pretrained token embeddings + character embeddings"
   ]
  },
  {
   "cell_type": "code",
   "execution_count": 47,
   "id": "e9807b1a-a8a5-4897-b060-b96fb9e28c1b",
   "metadata": {},
   "outputs": [
    {
     "name": "stdout",
     "output_type": "stream",
     "text": [
      "WARNING:tensorflow:Please fix your imports. Module tensorflow.python.training.tracking.data_structures has been moved to tensorflow.python.trackable.data_structures. The old module will be deleted in version 2.11.\n"
     ]
    }
   ],
   "source": [
    "# Lets get our pretrained token embedding layer from tensorflow_hub\n",
    "import tensorflow_hub as hub\n",
    "\n",
    "embed_url = \"https://tfhub.dev/google/nnlm-en-dim128/2\"\n",
    "\n",
    "tf_hub_embedding_layer = hub.KerasLayer(handle=embed_url,\n",
    "                                        dtype=tf.string,\n",
    "                                        trainable=False,\n",
    "                                        name=\"USE\")"
   ]
  },
  {
   "cell_type": "code",
   "execution_count": 48,
   "id": "8a6d900c-2cae-4bd3-bb8c-3b81efa7516a",
   "metadata": {},
   "outputs": [],
   "source": [
    "# Train dataset\n",
    "train_token_char_dataset = tf.data.Dataset.from_tensor_slices((\n",
    "    {\n",
    "        \"token_input\": train_sentences,\n",
    "        \"char_input\": train_sentences_chars\n",
    "    },\n",
    "    train_labels_enc\n",
    "))\n",
    "\n",
    "# Validation dataset\n",
    "valid_token_char_dataset = tf.data.Dataset.from_tensor_slices((\n",
    "    {\n",
    "        \"token_input\": valid_sentences,\n",
    "        \"char_input\": valid_sentences_chars\n",
    "    },\n",
    "    valid_labels_enc\n",
    "))\n",
    "\n",
    "\n",
    "# Prefecth and batch train data\n",
    "train_token_char_dataset = train_token_char_dataset.batch(32).prefetch(tf.data.AUTOTUNE)\n",
    "valid_token_char_dataset = valid_token_char_dataset.batch(32).prefetch(tf.data.AUTOTUNE)"
   ]
  },
  {
   "cell_type": "code",
   "execution_count": 49,
   "id": "75965fea-12ff-45fc-b6ba-ea09af73c9eb",
   "metadata": {},
   "outputs": [
    {
     "name": "stdout",
     "output_type": "stream",
     "text": [
      "dict_keys(['token_input', 'char_input'])\n",
      "(32,) <dtype: 'string'>\n",
      "(32,) <dtype: 'string'>\n",
      "(32,) <dtype: 'int32'>\n"
     ]
    }
   ],
   "source": [
    "for features, label in train_token_char_dataset.take(1):\n",
    "    print(features.keys())\n",
    "    print(features[\"token_input\"].shape, features[\"token_input\"].dtype)\n",
    "    print(features[\"char_input\"].shape, features[\"char_input\"].dtype)\n",
    "    print(label.shape, label.dtype)"
   ]
  },
  {
   "cell_type": "code",
   "execution_count": 50,
   "id": "537c5704-4b59-445a-a0e7-7a72618ae739",
   "metadata": {},
   "outputs": [],
   "source": [
    "#1. Setup token inputs/model\n",
    "token_inputs = layers.Input(shape=[], dtype=tf.string, name=\"token_input\")\n",
    "token_embeddings = tf_hub_embedding_layer(token_inputs)\n",
    "token_outputs = layers.Dense(128, activation=\"relu\")(token_embeddings)\n",
    "token_model = tf.keras.Model(token_inputs, token_outputs, name=\"token_model\")\n",
    "\n",
    "#2. Setup the char inputs/model\n",
    "char_inputs = layers.Input(shape=[1, ], dtype=tf.string, name=\"char_input\")\n",
    "char_vectors = charactor_vectorizer(char_inputs)\n",
    "char_vectors = tf.cast(char_vectors, tf.int32)\n",
    "char_embeddings = char_embedding(char_vectors)\n",
    "char_bi_lstm = layers.Bidirectional(layers.LSTM(24))(char_embeddings)\n",
    "char_model = tf.keras.Model(char_inputs, char_bi_lstm, name=\"char_model\")\n",
    "\n",
    "#3. Concatenate token and chart inputs\n",
    "token_char_concat = layers.Concatenate(name=\"token_char_inputs\")([token_model.output, char_model.output])\n",
    "\n",
    "#4. Create output layers - Add a Dropout for regularization\n",
    "combined_dropout = layers.Dropout(0.5)(token_char_concat)\n",
    "combined_dense = layers.Dense(128, activation=\"relu\")(combined_dropout)\n",
    "final_dropout = layers.Dropout(0.5)(combined_dense)\n",
    "output_layer = layers.Dense(5, activation=\"softmax\")(final_dropout)\n",
    "\n",
    "# 5. Create the model\n",
    "model_4 = tf.keras.Model(inputs=[token_model.input, char_model.input], outputs=output_layer, name=\"model_4_token_char_model\")"
   ]
  },
  {
   "cell_type": "code",
   "execution_count": 51,
   "id": "6e25d50d-d398-4134-b104-9673d38d2101",
   "metadata": {
    "scrolled": true
   },
   "outputs": [
    {
     "name": "stdout",
     "output_type": "stream",
     "text": [
      "Model: \"model_4_token_char_model\"\n",
      "__________________________________________________________________________________________________\n",
      " Layer (type)                   Output Shape         Param #     Connected to                     \n",
      "==================================================================================================\n",
      " char_input (InputLayer)        [(None, 1)]          0           []                               \n",
      "                                                                                                  \n",
      " text_vectorization_1 (TextVect  (None, 290)         0           ['char_input[0][0]']             \n",
      " orization)                                                                                       \n",
      "                                                                                                  \n",
      " token_input (InputLayer)       [(None,)]            0           []                               \n",
      "                                                                                                  \n",
      " tf.cast (TFOpLambda)           (None, 290)          0           ['text_vectorization_1[1][0]']   \n",
      "                                                                                                  \n",
      " USE (KerasLayer)               (None, 128)          124642688   ['token_input[0][0]']            \n",
      "                                                                                                  \n",
      " embedding_1 (Embedding)        (None, 290, 128)     5120        ['tf.cast[0][0]']                \n",
      "                                                                                                  \n",
      " dense_3 (Dense)                (None, 128)          16512       ['USE[0][0]']                    \n",
      "                                                                                                  \n",
      " bidirectional (Bidirectional)  (None, 48)           29376       ['embedding_1[1][0]']            \n",
      "                                                                                                  \n",
      " token_char_inputs (Concatenate  (None, 176)         0           ['dense_3[0][0]',                \n",
      " )                                                                'bidirectional[0][0]']          \n",
      "                                                                                                  \n",
      " dropout (Dropout)              (None, 176)          0           ['token_char_inputs[0][0]']      \n",
      "                                                                                                  \n",
      " dense_4 (Dense)                (None, 128)          22656       ['dropout[0][0]']                \n",
      "                                                                                                  \n",
      " dropout_1 (Dropout)            (None, 128)          0           ['dense_4[0][0]']                \n",
      "                                                                                                  \n",
      " dense_5 (Dense)                (None, 5)            645         ['dropout_1[0][0]']              \n",
      "                                                                                                  \n",
      "==================================================================================================\n",
      "Total params: 124,716,997\n",
      "Trainable params: 74,309\n",
      "Non-trainable params: 124,642,688\n",
      "__________________________________________________________________________________________________\n"
     ]
    }
   ],
   "source": [
    "# Let's visualize the model\n",
    "model_4.summary()"
   ]
  },
  {
   "cell_type": "code",
   "execution_count": 52,
   "id": "0e542ddc-d9fb-4658-bc97-fee16647d065",
   "metadata": {},
   "outputs": [],
   "source": [
    "import os\n",
    "os.environ[\"TF_XLA_FLAGS\"] = \"--tf_xla_auto_jit=0\"\n",
    "os.environ[\"TF_CPP_MIN_LOG_LEVEL\"] = \"2\""
   ]
  },
  {
   "cell_type": "code",
   "execution_count": 53,
   "id": "2c0be446-dd8b-4305-baca-3ad0d2926ace",
   "metadata": {
    "scrolled": true
   },
   "outputs": [
    {
     "name": "stdout",
     "output_type": "stream",
     "text": [
      "Saving TensorBoard log files to: model_logs/model_4_hybrid_token_char_embedding/20250914-184631\n",
      "Epoch 1/5\n",
      "5530/5530 [==============================] - 210s 37ms/step - loss: 0.7465 - accuracy: 0.7167 - val_loss: 0.5965 - val_accuracy: 0.7762\n",
      "Epoch 2/5\n",
      "5530/5530 [==============================] - 230s 42ms/step - loss: 0.6542 - accuracy: 0.7548 - val_loss: 0.5669 - val_accuracy: 0.7861\n",
      "Epoch 3/5\n",
      "5530/5530 [==============================] - 208s 38ms/step - loss: 0.6305 - accuracy: 0.7641 - val_loss: 0.5560 - val_accuracy: 0.7889\n",
      "Epoch 4/5\n",
      "5530/5530 [==============================] - 187s 34ms/step - loss: 0.6185 - accuracy: 0.7686 - val_loss: 0.5463 - val_accuracy: 0.7925\n",
      "Epoch 5/5\n",
      "5530/5530 [==============================] - 188s 34ms/step - loss: 0.6080 - accuracy: 0.7728 - val_loss: 0.5400 - val_accuracy: 0.7959\n"
     ]
    }
   ],
   "source": [
    "# Let's compile and fit the model\n",
    "model_4.compile(loss=tf.keras.losses.SparseCategoricalCrossentropy(),\n",
    "                optimizer=tf.keras.optimizers.Adam(),\n",
    "                metrics=[\"accuracy\"])\n",
    "model_4_history = model_4.fit(x=train_token_char_dataset, epochs=5, validation_data=valid_token_char_dataset, callbacks=create_tensorboard_callback(model_dir,\"model_4_hybrid_token_char_embedding\", ))"
   ]
  },
  {
   "cell_type": "code",
   "execution_count": 54,
   "id": "45cc4c82-8850-4c78-92b0-25dbbee844cc",
   "metadata": {},
   "outputs": [
    {
     "name": "stdout",
     "output_type": "stream",
     "text": [
      "935/935 [==============================] - 15s 16ms/step\n"
     ]
    }
   ],
   "source": [
    "# Get the prediction probabilities of the valid data\n",
    "model_4_preds = model_4.predict((valid_sentences,valid_sentences_chars))\n",
    "\n",
    "# Turn the probabilities into labels\n",
    "model_4_preds_rounded = []\n",
    "for i in range(0, len(model_4_preds)):\n",
    "    index = model_4_preds[i].argmax()\n",
    "    model_4_preds_rounded.append(index)"
   ]
  },
  {
   "cell_type": "code",
   "execution_count": 55,
   "id": "4ac8af21-1cc4-4125-af2c-1dcafe2b6f3e",
   "metadata": {},
   "outputs": [
    {
     "data": {
      "text/plain": [
       "{'Model Accuracy': 0.7958849113415858,\n",
       " 'Model Precision': 0.796514731585822,\n",
       " 'Model Recall': 0.7958849113415858,\n",
       " 'Model F1': 0.7923170039291004,\n",
       " 'Model Confusion Matrix': array([[2058,  570,  292,  239,   85],\n",
       "        [ 454, 3172,  238,    7,  691],\n",
       "        [ 155,  137, 8925,   24,  638],\n",
       "        [ 820,  187,  179, 1135,   55],\n",
       "        [  49,  317,  962,    2, 8499]], dtype=int64)}"
      ]
     },
     "execution_count": 55,
     "metadata": {},
     "output_type": "execute_result"
    }
   ],
   "source": [
    "# Let's see some metrics\n",
    "model_4_metrics = calculate_results(model_4_preds_rounded, valid_labels_enc)\n",
    "model_4_metrics"
   ]
  },
  {
   "cell_type": "markdown",
   "id": "aef5022d-d995-4bd7-b913-c44772267977",
   "metadata": {},
   "source": [
    "# Compare Model Results with a bar plot"
   ]
  },
  {
   "cell_type": "code",
   "execution_count": 58,
   "id": "a5642785-ed8d-40b1-916b-c95c5ed310cc",
   "metadata": {},
   "outputs": [
    {
     "data": {
      "text/html": [
       "<div>\n",
       "<style scoped>\n",
       "    .dataframe tbody tr th:only-of-type {\n",
       "        vertical-align: middle;\n",
       "    }\n",
       "\n",
       "    .dataframe tbody tr th {\n",
       "        vertical-align: top;\n",
       "    }\n",
       "\n",
       "    .dataframe thead th {\n",
       "        text-align: right;\n",
       "    }\n",
       "</style>\n",
       "<table border=\"1\" class=\"dataframe\">\n",
       "  <thead>\n",
       "    <tr style=\"text-align: right;\">\n",
       "      <th></th>\n",
       "      <th>Model Accuracy</th>\n",
       "      <th>Model Precision</th>\n",
       "      <th>Model Recall</th>\n",
       "      <th>Model F1</th>\n",
       "      <th>Model Confusion Matrix</th>\n",
       "    </tr>\n",
       "  </thead>\n",
       "  <tbody>\n",
       "    <tr>\n",
       "      <th>baseline</th>\n",
       "      <td>0.72081</td>\n",
       "      <td>0.717059</td>\n",
       "      <td>0.72081</td>\n",
       "      <td>0.697015</td>\n",
       "      <td>[[1476, 796, 688, 98, 186], [211, 2706, 426, 5...</td>\n",
       "    </tr>\n",
       "    <tr>\n",
       "      <th>Model_1</th>\n",
       "      <td>0.796721</td>\n",
       "      <td>0.796616</td>\n",
       "      <td>0.796721</td>\n",
       "      <td>0.796538</td>\n",
       "      <td>[[1976, 426, 179, 608, 55], [432, 3366, 143, 1...</td>\n",
       "    </tr>\n",
       "    <tr>\n",
       "      <th>Model_2</th>\n",
       "      <td>0.777584</td>\n",
       "      <td>0.783345</td>\n",
       "      <td>0.777584</td>\n",
       "      <td>0.779905</td>\n",
       "      <td>[[1931, 436, 162, 665, 50], [499, 3308, 120, 1...</td>\n",
       "    </tr>\n",
       "    <tr>\n",
       "      <th>Model_3</th>\n",
       "      <td>0.744798</td>\n",
       "      <td>0.736355</td>\n",
       "      <td>0.744798</td>\n",
       "      <td>0.736114</td>\n",
       "      <td>[[1139, 802, 416, 753, 134], [266, 2826, 352, ...</td>\n",
       "    </tr>\n",
       "    <tr>\n",
       "      <th>Model_4</th>\n",
       "      <td>0.795885</td>\n",
       "      <td>0.796515</td>\n",
       "      <td>0.795885</td>\n",
       "      <td>0.792317</td>\n",
       "      <td>[[2058, 570, 292, 239, 85], [454, 3172, 238, 7...</td>\n",
       "    </tr>\n",
       "  </tbody>\n",
       "</table>\n",
       "</div>"
      ],
      "text/plain": [
       "         Model Accuracy Model Precision Model Recall  Model F1  \\\n",
       "baseline        0.72081        0.717059      0.72081  0.697015   \n",
       "Model_1        0.796721        0.796616     0.796721  0.796538   \n",
       "Model_2        0.777584        0.783345     0.777584  0.779905   \n",
       "Model_3        0.744798        0.736355     0.744798  0.736114   \n",
       "Model_4        0.795885        0.796515     0.795885  0.792317   \n",
       "\n",
       "                                     Model Confusion Matrix  \n",
       "baseline  [[1476, 796, 688, 98, 186], [211, 2706, 426, 5...  \n",
       "Model_1   [[1976, 426, 179, 608, 55], [432, 3366, 143, 1...  \n",
       "Model_2   [[1931, 436, 162, 665, 50], [499, 3308, 120, 1...  \n",
       "Model_3   [[1139, 802, 416, 753, 134], [266, 2826, 352, ...  \n",
       "Model_4   [[2058, 570, 292, 239, 85], [454, 3172, 238, 7...  "
      ]
     },
     "execution_count": 58,
     "metadata": {},
     "output_type": "execute_result"
    }
   ],
   "source": [
    "all_model_results = pd.DataFrame({\n",
    "    \"baseline\" : model_0_metrics,\n",
    "    \"Model_1\" : model_1_metrics,\n",
    "    \"Model_2\" : model_2_metrics,\n",
    "    \"Model_3\" : model_3_metrics,\n",
    "    \"Model_4\" : model_4_metrics\n",
    "})\n",
    "all_model_results = all_model_results.transpose()\n",
    "all_model_results"
   ]
  },
  {
   "cell_type": "code",
   "execution_count": 59,
   "id": "7c629568-a93f-402b-8abf-67e3d670fc0c",
   "metadata": {},
   "outputs": [
    {
     "data": {
      "image/png": "[encoded data removed]",
      "text/plain": [
       "<Figure size 1000x700 with 1 Axes>"
      ]
     },
     "metadata": {},
     "output_type": "display_data"
    }
   ],
   "source": [
    "all_model_results.plot(kind=\"bar\", figsize=(10,7)).legend(bbox_to_anchor=(1.0,1.0));"
   ]
  },
  {
   "cell_type": "code",
   "execution_count": null,
   "id": "643a3f50-b931-4212-9747-6cc8e3b966e3",
   "metadata": {},
   "outputs": [],
   "source": []
  }
 ],
 "metadata": {
  "kernelspec": {
   "display_name": "Python 3 (ipykernel)",
   "language": "python",
   "name": "python3"
  },
  "language_info": {
   "codemirror_mode": {
    "name": "ipython",
    "version": 3
   },
   "file_extension": ".py",
   "mimetype": "text/x-python",
   "name": "python",
   "nbconvert_exporter": "python",
   "pygments_lexer": "ipython3",
   "version": "3.10.18"
  }
 },
 "nbformat": 4,
 "nbformat_minor": 5
}
